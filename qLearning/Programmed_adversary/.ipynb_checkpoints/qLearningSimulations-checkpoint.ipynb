{
 "cells": [
  {
   "cell_type": "code",
   "execution_count": 1,
   "metadata": {},
   "outputs": [],
   "source": [
    "from learningAgent import LearningAlgorithm\n",
    "from environment import Model, AdversaryModes\n",
    "from Qtable import QTable\n",
    "from test import Test\n",
    "import numpy as np"
   ]
  },
  {
   "cell_type": "code",
   "execution_count": 2,
   "metadata": {},
   "outputs": [],
   "source": [
    "np.random.seed(10)"
   ]
  },
  {
   "cell_type": "code",
   "execution_count": 3,
   "metadata": {},
   "outputs": [],
   "source": [
    "total_Demand = 400\n",
    "agent_Cost = 57\n",
    "adv_Cost = 71 \n",
    "tuple_Costs = [57,71]\n",
    "total_Stages = 25\n",
    "init_State = [total_Demand/2, total_Demand/2]\n",
    "adversaryProbs=[0]*len(AdversaryModes)\n",
    "adversaryProbs[0]=1 # We only train against strategies that do not take into account the \n",
    "# previous actions (myopic or constant strategies).\n",
    "\n",
    "game = Model(total_Demand, [agent_Cost,adv_Cost], total_Stages, adversaryProbs)"
   ]
  },
  {
   "cell_type": "code",
   "execution_count": 4,
   "metadata": {},
   "outputs": [],
   "source": [
    "num_Actions = 100\n",
    "num_States = abs(adv_Cost - agent_Cost) + 2 * num_Actions + 2"
   ]
  },
  {
   "cell_type": "code",
   "execution_count": 5,
   "metadata": {},
   "outputs": [],
   "source": [
    "# Learning rate is given as [numerator,denominator] which gives us a learning rate function of \n",
    "# numerator/(n+demoninator)\n",
    "Qtable = QTable(num_States, num_Actions, learning_Rate = [490000,500000])"
   ]
  },
  {
   "cell_type": "code",
   "execution_count": 6,
   "metadata": {},
   "outputs": [],
   "source": [
    "numberEpisodes = 50_000_000\n",
    "discountFactor = 0.99"
   ]
  },
  {
   "cell_type": "code",
   "execution_count": 7,
   "metadata": {},
   "outputs": [],
   "source": [
    "algorithm = LearningAlgorithm(game, Qtable, numberEpisodes, discountFactor)"
   ]
  },
  {
   "cell_type": "code",
   "execution_count": 8,
   "metadata": {
    "scrolled": true
   },
   "outputs": [],
   "source": [
    "algorithm.solver()"
   ]
  },
  {
   "cell_type": "code",
   "execution_count": 9,
   "metadata": {},
   "outputs": [],
   "source": [
    "# print(Qtable.Q_table)"
   ]
  },
  {
   "cell_type": "code",
   "execution_count": 10,
   "metadata": {},
   "outputs": [],
   "source": [
    "# Qtable.Q_table.mean()"
   ]
  },
  {
   "cell_type": "code",
   "execution_count": 11,
   "metadata": {},
   "outputs": [],
   "source": [
    "adversaryProbs=[0]*len(AdversaryModes)\n",
    "adversaryProbs[0]=1 # We can test the Q-Table against any strategy. "
   ]
  },
  {
   "cell_type": "code",
   "execution_count": 12,
   "metadata": {},
   "outputs": [],
   "source": [
    "result = Test(game, Qtable, discountFactor, adversaryProbs)"
   ]
  },
  {
   "cell_type": "code",
   "execution_count": 13,
   "metadata": {},
   "outputs": [],
   "source": [
    "import numpy as np\n",
    "import matplotlib.pyplot as plt"
   ]
  },
  {
   "cell_type": "code",
   "execution_count": 14,
   "metadata": {},
   "outputs": [
    {
     "data": {
      "image/png": "[encoded data removed]",
      "text/plain": [
       "<Figure size 640x480 with 1 Axes>"
      ]
     },
     "metadata": {},
     "output_type": "display_data"
    }
   ],
   "source": [
    "# The following plots what the Q-Table says is the best action in each state\n",
    "states, bestResponses = result.bestResponses()\n",
    "plt.scatter(states,bestResponses)\n",
    "plt.show()"
   ]
  },
  {
   "cell_type": "code",
   "execution_count": 15,
   "metadata": {},
   "outputs": [
    {
     "name": "stdout",
     "output_type": "stream",
     "text": [
      "156565.81231610497\n",
      "34811.141650098594\n",
      "[ 81  98  96 107 102 104 111 104 111 104 111 104 111 104 111 104 111 104\n",
      " 111 104 111 104 111 104 111]\n",
      "[135 122 116 111 110 108 107 108 107 108 107 108 107 108 107 108 107 108\n",
      " 107 108 107 108 107 108 107]\n",
      "[200. 227. 239. 249. 251. 255. 257. 255. 257. 255. 257. 255. 257. 255.\n",
      " 257. 255. 257. 255. 257. 255. 257. 255. 257. 255. 257.]\n"
     ]
    }
   ],
   "source": [
    "# Returns the optimal payoff and actions according to the Qtable\n",
    "payoff, advPayoff, actions, advActions, demandPotential = result.totalPayoff()\n",
    "print(payoff)\n",
    "print(advPayoff)\n",
    "print(actions)\n",
    "print(advActions)\n",
    "print(demandPotential)"
   ]
  },
  {
   "cell_type": "code",
   "execution_count": 16,
   "metadata": {},
   "outputs": [],
   "source": [
    "# The percentage error of the Qtable. This has to be measured against the same opponent that \n",
    "# it was trained against, as this is a measure of how 'complete' the training is.\n",
    "error = result.error()"
   ]
  },
  {
   "cell_type": "code",
   "execution_count": 17,
   "metadata": {},
   "outputs": [
    {
     "data": {
      "text/plain": [
       "0.0004667063216408303"
      ]
     },
     "execution_count": 17,
     "metadata": {},
     "output_type": "execute_result"
    }
   ],
   "source": [
    "error.mean()"
   ]
  },
  {
   "cell_type": "code",
   "execution_count": 18,
   "metadata": {},
   "outputs": [
    {
     "name": "stdout",
     "output_type": "stream",
     "text": [
      "AdversaryModes.myopic\n",
      "156565.81231610497\n",
      "AdversaryModes.constant_132\n",
      "238979.07730435894\n",
      "AdversaryModes.constant_95\n",
      "97548.1311417851\n",
      "AdversaryModes.imitation_132\n",
      "98608.19311004323\n",
      "AdversaryModes.imitation_128\n",
      "97616.47326097779\n",
      "AdversaryModes.fight_132\n",
      "5607.470996872076\n",
      "AdversaryModes.fight_lb_132\n",
      "68472.91531876566\n",
      "AdversaryModes.fight_125\n",
      "12209.252537274462\n",
      "AdversaryModes.fight_lb_125\n",
      "68564.37203485591\n",
      "AdversaryModes.fight_100\n",
      "53097.6966852822\n",
      "AdversaryModes.guess_132\n",
      "5607.470996872076\n",
      "AdversaryModes.guess_125\n",
      "12209.252537274462\n"
     ]
    }
   ],
   "source": [
    "# The following calculates the payoff that the Q-Table gives against the different opponenets. \n",
    "# It may reach a state in which the Q-Table was not trained. This will cause an error saying \n",
    "# either 'max action reached' or 'min action reached'.\n",
    "for i in range(len(AdversaryModes)):\n",
    "    print(AdversaryModes(i))\n",
    "    adversaryProbs=[0]*len(AdversaryModes)\n",
    "    adversaryProbs[i]=1\n",
    "    result = Test(game, Qtable, discountFactor, adversaryProbs)\n",
    "    payoff, advPayoff, actions, advActions, demandPotential = result.totalPayoff()\n",
    "    print(payoff)\n"
   ]
  },
  {
   "cell_type": "code",
   "execution_count": null,
   "metadata": {},
   "outputs": [],
   "source": []
  }
 ],
 "metadata": {
  "kernelspec": {
   "display_name": "Python 3 (ipykernel)",
   "language": "python",
   "name": "python3"
  },
  "language_info": {
   "codemirror_mode": {
    "name": "ipython",
    "version": 3
   },
   "file_extension": ".py",
   "mimetype": "text/x-python",
   "name": "python",
   "nbconvert_exporter": "python",
   "pygments_lexer": "ipython3",
   "version": "3.9.13"
  }
 },
 "nbformat": 4,
 "nbformat_minor": 4
}
