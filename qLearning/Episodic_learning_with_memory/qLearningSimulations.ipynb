{
 "cells": [
  {
   "cell_type": "code",
   "execution_count": 1,
   "metadata": {},
   "outputs": [],
   "source": [
    "from learningAgent import LearningAlgorithm\n",
    "from environment import Model, AdversaryModes\n",
    "from Qtable import QTable\n",
    "from test import Test\n",
    "import numpy as np\n",
    "import matplotlib.pyplot as plt\n",
    "import pandas as pd"
   ]
  },
  {
   "cell_type": "code",
   "execution_count": 2,
   "metadata": {},
   "outputs": [],
   "source": [
    "np.random.seed(11)"
   ]
  },
  {
   "cell_type": "code",
   "execution_count": 3,
   "metadata": {},
   "outputs": [],
   "source": [
    "total_demand = 400\n",
    "agent_cost = 57\n",
    "adversary_cost = 71 \n",
    "costs = [agent_cost,adversary_cost]\n",
    "total_stages = 25\n",
    "adversary_probabilities=[0]*len(AdversaryModes)\n",
    "# Below is where we decide what adversaries we train against- see environment.py for the numbers\n",
    "# Replace * and ** with the two number associated with the opponents at the bottom of environment.py\n",
    "# adversary_probabilities[10]= 0.5\n",
    "adversary_probabilities[11] = 1\n",
    "game = Model(total_demand, costs, total_stages, adversary_probabilities)"
   ]
  },
  {
   "cell_type": "code",
   "execution_count": 4,
   "metadata": {},
   "outputs": [
    {
     "name": "stdout",
     "output_type": "stream",
     "text": [
      "2040816\n"
     ]
    }
   ],
   "source": [
    "number_actions = 50\n",
    "number_demands = total_demand + 1\n",
    "discount_factor = 1\n",
    "number_episodes = 100_000_000\n",
    "constant = int(number_episodes/49)\n",
    "print(constant)"
   ]
  },
  {
   "cell_type": "code",
   "execution_count": 5,
   "metadata": {},
   "outputs": [],
   "source": [
    "# Learning rate is given as [numerator,denominator] which gives us a learning rate function of \n",
    "# numerator/(n+denominator)\n",
    "Qtable = QTable(number_demands, number_actions, total_stages , learning_rate = [constant,constant])"
   ]
  },
  {
   "cell_type": "code",
   "execution_count": 6,
   "metadata": {},
   "outputs": [],
   "source": [
    "algorithm = LearningAlgorithm(game, Qtable, number_episodes, discount_factor)"
   ]
  },
  {
   "cell_type": "code",
   "execution_count": 7,
   "metadata": {},
   "outputs": [
    {
     "name": "stdout",
     "output_type": "stream",
     "text": [
      "0 0.594349701531621\n",
      "Current payoff for adversary 1:  34687.0\n",
      "Current payoff for adversary 2:  79941.0\n",
      "Current payoff for adversary 1:  73981.0\n",
      "Current payoff for adversary 2:  70645.0\n",
      "Current payoff for adversary 1:  78665.0\n",
      "Current payoff for adversary 2:  101521.0\n",
      "Current payoff for adversary 1:  98645.0\n",
      "Current payoff for adversary 2:  83760.0\n",
      "Current payoff for adversary 1:  99592.0\n",
      "Current payoff for adversary 2:  84035.0\n",
      "Current payoff for adversary 1:  92889.0\n",
      "Current payoff for adversary 2:  91975.0\n",
      "Current payoff for adversary 1:  82468.0\n",
      "Current payoff for adversary 2:  81975.0\n",
      "Current payoff for adversary 1:  92860.0\n",
      "Current payoff for adversary 2:  98432.0\n",
      "Current payoff for adversary 1:  85632.0\n",
      "Current payoff for adversary 2:  97482.0\n",
      "Current payoff for adversary 1:  96170.0\n",
      "Current payoff for adversary 2:  99178.0\n",
      "Current payoff for adversary 1:  98218.0\n",
      "Current payoff for adversary 2:  92285.0\n",
      "Current payoff for adversary 1:  98634.0\n",
      "Current payoff for adversary 2:  96046.0\n",
      "Current payoff for adversary 1:  95566.0\n",
      "Current payoff for adversary 2:  68512.0\n",
      "Current payoff for adversary 1:  100080.0\n",
      "Current payoff for adversary 2:  105736.0\n",
      "Current payoff for adversary 1:  95810.0\n",
      "Current payoff for adversary 2:  64602.0\n",
      "Current payoff for adversary 1:  111108.0\n",
      "Current payoff for adversary 2:  85837.0\n",
      "Current payoff for adversary 1:  92963.0\n",
      "Current payoff for adversary 2:  94590.0\n",
      "Current payoff for adversary 1:  90542.0\n",
      "Current payoff for adversary 2:  94991.0\n",
      "Current payoff for adversary 1:  91372.0\n",
      "Current payoff for adversary 2:  98799.0\n",
      "Current payoff for adversary 1:  100601.0\n",
      "Current payoff for adversary 2:  102214.0\n",
      "Current payoff for adversary 1:  101872.0\n",
      "Current payoff for adversary 2:  105037.0\n",
      "Current payoff for adversary 1:  107001.0\n",
      "Current payoff for adversary 2:  94888.0\n",
      "Current payoff for adversary 1:  111568.0\n",
      "Current payoff for adversary 2:  96090.0\n",
      "Current payoff for adversary 1:  87229.0\n",
      "Current payoff for adversary 2:  77804.0\n",
      "Current payoff for adversary 1:  90002.0\n",
      "Current payoff for adversary 2:  71446.0\n",
      "Current payoff for adversary 1:  91612.0\n",
      "Current payoff for adversary 2:  88551.0\n",
      "Current payoff for adversary 1:  79085.0\n",
      "Current payoff for adversary 2:  97288.0\n",
      "Current payoff for adversary 1:  93384.0\n",
      "Current payoff for adversary 2:  81910.0\n",
      "Current payoff for adversary 1:  113506.0\n",
      "Current payoff for adversary 2:  97466.0\n",
      "Current payoff for adversary 1:  59204.0\n",
      "Current payoff for adversary 2:  106316.0\n",
      "Current payoff for adversary 1:  89503.0\n",
      "Current payoff for adversary 2:  104954.0\n",
      "Current payoff for adversary 1:  84989.0\n",
      "Current payoff for adversary 2:  105401.0\n",
      "Current payoff for adversary 1:  98121.0\n",
      "Current payoff for adversary 2:  88237.0\n",
      "Current payoff for adversary 1:  112002.0\n",
      "Current payoff for adversary 2:  106707.0\n",
      "Current payoff for adversary 1:  99953.0\n",
      "Current payoff for adversary 2:  106348.0\n",
      "Current payoff for adversary 1:  80622.0\n",
      "Current payoff for adversary 2:  88378.0\n",
      "Current payoff for adversary 1:  91324.0\n",
      "Current payoff for adversary 2:  100303.0\n",
      "Current payoff for adversary 1:  109847.0\n",
      "Current payoff for adversary 2:  100312.0\n",
      "Current payoff for adversary 1:  109847.0\n",
      "Current payoff for adversary 2:  99063.0\n",
      "Current payoff for adversary 1:  102574.0\n",
      "Current payoff for adversary 2:  100620.0\n",
      "Current payoff for adversary 1:  104237.0\n",
      "Current payoff for adversary 2:  99054.0\n",
      "Current payoff for adversary 1:  85100.0\n",
      "Current payoff for adversary 2:  100340.0\n",
      "Current payoff for adversary 1:  85912.0\n",
      "Current payoff for adversary 2:  99218.0\n",
      "Current payoff for adversary 1:  96432.0\n",
      "Current payoff for adversary 2:  101575.0\n",
      "Current payoff for adversary 1:  83770.0\n",
      "Current payoff for adversary 2:  100141.0\n",
      "Current payoff for adversary 1:  114494.0\n",
      "Current payoff for adversary 2:  101752.0\n",
      "Current payoff for adversary 1:  84009.0\n",
      "Current payoff for adversary 2:  99816.0\n",
      "Current payoff for adversary 1:  98744.0\n",
      "Current payoff for adversary 2:  94135.0\n",
      "Current payoff for adversary 1:  99763.0\n",
      "Current payoff for adversary 2:  94845.0\n",
      "Current payoff for adversary 1:  105391.0\n",
      "Current payoff for adversary 2:  95373.0\n",
      "50 0.0084000959568777\n",
      "Current payoff for adversary 1:  84719.0\n",
      "Current payoff for adversary 2:  94776.0\n",
      "Current payoff for adversary 1:  107171.0\n",
      "Current payoff for adversary 2:  96068.0\n",
      "Current payoff for adversary 1:  99437.0\n",
      "Current payoff for adversary 2:  95768.0\n",
      "Current payoff for adversary 1:  104199.0\n",
      "Current payoff for adversary 2:  110675.0\n",
      "Current payoff for adversary 1:  98113.0\n",
      "Current payoff for adversary 2:  93863.0\n",
      "Current payoff for adversary 1:  116006.0\n",
      "Current payoff for adversary 2:  109634.0\n",
      "Current payoff for adversary 1:  84889.0\n",
      "Current payoff for adversary 2:  110741.0\n",
      "57\n"
     ]
    },
    {
     "data": {
      "text/plain": [
       "[<matplotlib.lines.Line2D at 0x174e0ccd250>]"
      ]
     },
     "execution_count": 7,
     "metadata": {},
     "output_type": "execute_result"
    },
    {
     "data": {
      "image/png": "[encoded data removed]",
      "text/plain": [
       "<Figure size 432x288 with 1 Axes>"
      ]
     },
     "metadata": {
      "needs_background": "light"
     },
     "output_type": "display_data"
    }
   ],
   "source": [
    "# Below is the first stage of learning- actions are chosen randomly.\n",
    "number_episodes_per_round = 100_000\n",
    "number_rounds = int(number_episodes / number_episodes_per_round)\n",
    "errors = np.zeros(number_rounds)\n",
    "final_round = 0\n",
    "opponent1_results = list()\n",
    "#opponent2_results = list()\n",
    "for round_ in range(number_rounds):\n",
    "    algorithm.continue_learning(number_episodes_per_round,number_episodes_per_round * round_ +1)\n",
    "    adversary_probabilities[11]= 1\n",
    "    # adversary_probabilities[11] = 0.5\n",
    "    result = Test(game, Qtable, discount_factor, adversary_probabilities)\n",
    "    errors[round_] = result.error(1000)\n",
    "    if round_ % 50 == 0:\n",
    "        print(round_, errors[round_])\n",
    "    if round_ > 10 and np.max(errors[round_-10:round_]) < 0.01:\n",
    "        print(round_)\n",
    "        final_round = round_\n",
    "        break\n",
    "        \n",
    "    adversary_probabilities=[0]*len(AdversaryModes)\n",
    "    adversary_probabilities[11]=1\n",
    "    result = Test(game, Qtable, discount_factor, adversary_probabilities)\n",
    "    payoff1, adversary_payoff, actions, adversary_actions, demand_potential = result.total_payoff()\n",
    "    opponent1_results.append(payoff1)\n",
    "    print('Current payoff for adversary 1: ', payoff1)\n",
    "    \n",
    "   # adversary_probabilities=[0]*len(AdversaryModes)\n",
    "   # adversary_probabilities[11]=1\n",
    "   # result = Test(game, Qtable, discount_factor, adversary_probabilities)\n",
    "   # payoff2, adversary_payoff, actions, adversary_actions, demand_potential = result.total_payoff()\n",
    "    # opponent2_results.append(payoff2)\n",
    "    # print('Current payoff for adversary 2: ', payoff2)\n",
    "    \n",
    "    if (round_ == number_rounds - 1):\n",
    "        final_round = round_\n",
    "    \n",
    "plt.plot(errors[0:final_round+1])"
   ]
  },
  {
   "cell_type": "code",
   "execution_count": null,
   "metadata": {},
   "outputs": [
    {
     "name": "stdout",
     "output_type": "stream",
     "text": [
      "Round  0  of  188\n",
      "Best payoff:  129293\n",
      "Best actions:  [118, 132, 126, 123, 116, 113, 120, 104, 108, 118, 102, 116, 108, 106, 118, 106, 106, 114, 109, 114, 104, 112, 113, 116, 125]\n",
      "Current payoff for adversary 1:  126020.0\n",
      "Current payoff for adversary 2:  116447.0\n",
      "Round  1  of  188\n",
      "Best payoff:  130778\n",
      "Best actions:  [113, 122, 125, 125, 124, 129, 116, 116, 111, 111, 114, 112, 120, 106, 112, 112, 112, 112, 114, 107, 111, 116, 111, 114, 130]\n",
      "Current payoff for adversary 1:  80594.0\n",
      "Current payoff for adversary 2:  129385.0\n",
      "Round  2  of  188\n",
      "Best payoff:  132640\n",
      "Best actions:  [111, 125, 125, 125, 125, 125, 122, 117, 119, 113, 111, 115, 113, 112, 111, 112, 117, 111, 113, 114, 111, 112, 116, 113, 130]\n",
      "Current payoff for adversary 1:  80294.0\n",
      "Current payoff for adversary 2:  132503.0\n",
      "Round  3  of  188\n",
      "Best payoff:  133019\n",
      "Best actions:  [111, 124, 124, 125, 124, 124, 123, 118, 115, 115, 113, 115, 111, 115, 111, 112, 114, 111, 114, 110, 114, 112, 116, 115, 130]\n",
      "Current payoff for adversary 1:  92906.0\n",
      "Current payoff for adversary 2:  131876.0\n",
      "Round  4  of  188\n",
      "Best payoff:  133293\n",
      "Best actions:  [111, 125, 125, 125, 125, 125, 125, 125, 124, 128, 116, 113, 114, 108, 111, 111, 110, 113, 109, 111, 113, 109, 111, 111, 132]\n",
      "Current payoff for adversary 1:  74975.0\n",
      "Current payoff for adversary 2:  133196.0\n",
      "Round  5  of  188\n",
      "Best payoff:  134193\n",
      "Best actions:  [111, 125, 125, 125, 124, 124, 126, 123, 125, 127, 119, 117, 118, 116, 115, 115, 113, 115, 119, 113, 114, 112, 110, 112, 131]\n",
      "Current payoff for adversary 1:  100995.0\n",
      "Current payoff for adversary 2:  133716.0\n",
      "Round  6  of  188\n",
      "Best payoff:  134790\n",
      "Best actions:  [111, 124, 125, 125, 125, 125, 125, 125, 125, 125, 129, 118, 121, 112, 119, 116, 114, 116, 119, 113, 114, 118, 115, 112, 132]\n",
      "Current payoff for adversary 1:  103036.0\n",
      "Current payoff for adversary 2:  134353.0\n",
      "Round  7  of  188\n",
      "Best payoff:  135517\n",
      "Best actions:  [111, 125, 125, 125, 125, 125, 125, 125, 125, 125, 127, 122, 121, 120, 122, 117, 115, 115, 120, 110, 116, 122, 111, 106, 128]\n",
      "Current payoff for adversary 1:  95979.0\n",
      "Current payoff for adversary 2:  135481.0\n",
      "Round  8  of  188\n",
      "Best payoff:  135764\n",
      "Best actions:  [111, 125, 125, 125, 125, 125, 125, 125, 125, 125, 124, 124, 127, 118, 118, 113, 113, 114, 114, 116, 114, 112, 114, 116, 131]\n",
      "Current payoff for adversary 1:  76657.0\n",
      "Current payoff for adversary 2:  135496.0\n",
      "Round  9  of  188\n",
      "Best payoff:  135920\n",
      "Best actions:  [111, 125, 125, 125, 125, 125, 125, 125, 125, 125, 125, 124, 124, 118, 116, 115, 116, 112, 114, 116, 112, 113, 114, 116, 131]\n",
      "Current payoff for adversary 1:  93320.0\n",
      "Current payoff for adversary 2:  135886.0\n",
      "Round  10  of  188\n",
      "Best payoff:  135983\n",
      "Best actions:  [111, 125, 125, 125, 125, 125, 125, 125, 125, 125, 125, 124, 124, 118, 116, 115, 114, 114, 114, 116, 112, 113, 114, 116, 131]\n",
      "Current payoff for adversary 1:  75385.0\n",
      "Current payoff for adversary 2:  135854.0\n",
      "Round  11  of  188\n"
     ]
    }
   ],
   "source": [
    "# Below is the second stage of learning- actions are chosen according to an epsilon greedy strategy.\n",
    "episode_counter = (final_round + 1) * number_episodes_per_round\n",
    "episodes_left = number_episodes - episode_counter\n",
    "number_episodes_per_round = 500_000\n",
    "number_rounds = int(episodes_left / number_episodes_per_round)\n",
    "\n",
    "for round_ in range(number_rounds): \n",
    "    print('Round ', round_, ' of ', number_rounds)\n",
    "    algorithm.epsilon_greedy_learning(number_episodes_per_round, episode_counter)\n",
    "    \n",
    "    adversary_probabilities=[0]*len(AdversaryModes)\n",
    "    adversary_probabilities[11]=1\n",
    "    result = Test(game, Qtable, discount_factor, adversary_probabilities)\n",
    "    payoff1, adversary_payoff, actions, adversary_actions, demand_potential = result.total_payoff()\n",
    "    opponent1_results.append(payoff1)\n",
    "    print('Current payoff for adversary 1: ', payoff1)\n",
    "    \n",
    "#     adversary_probabilities=[0]*len(AdversaryModes)\n",
    "#     adversary_probabilities[11]=1\n",
    "#     result = Test(game, Qtable, discount_factor, adversary_probabilities)\n",
    "#     payoff2, adversary_payoff, actions, adversary_actions, demand_potential = result.total_payoff()\n",
    "#     opponent2_results.append(payoff2)\n",
    "#     print('Current payoff for adversary 2: ', payoff2)\n",
    "    \n",
    "    episode_counter += number_episodes_per_round\n",
    "    \n",
    "plt.plot(opponent1_results)\n",
    "# plt.plot(opponent2_results)\n",
    "plt.title(\"Payoff over the rounds\")\n",
    "plt.xlabel(\"Rounds\")\n",
    "plt.ylabel(\"Payoff at the end of each round\")\n",
    "legend = [\"adversary 1\"]\n",
    "plt.legend(legend)"
   ]
  },
  {
   "cell_type": "code",
   "execution_count": null,
   "metadata": {},
   "outputs": [],
   "source": [
    "Qtable.save(\"Qtable_guess132_guess128\")\n",
    "\n",
    "df1 = pd.DataFrame(opponent1_results)\n",
    "#df2 = pd.DataFrame(opponent2_results)\n",
    "\n",
    "writer = pd.ExcelWriter('payoffs.xlsx', engine='xlsxwriter')\n",
    "df1.to_excel(writer, sheet_name='payoff1', index=False)\n",
    "#df2.to_excel(writer, sheet_name='payoff2', index=False)\n",
    "writer.save()"
   ]
  },
  {
   "cell_type": "code",
   "execution_count": null,
   "metadata": {},
   "outputs": [],
   "source": [
    "# We now have the trained agent. We want to test it against each opponent individually, so that\n",
    "# we can compare it against the agent that is just trained against this opponent. "
   ]
  },
  {
   "cell_type": "code",
   "execution_count": null,
   "metadata": {},
   "outputs": [],
   "source": [
    "adversary_probabilities=[0]*len(AdversaryModes)\n",
    "# Testing against one type of opponent by changing the * below to be the first number\n",
    "adversary_probabilities[11]=1\n",
    "result = Test(game, Qtable, discount_factor, adversary_probabilities)\n",
    "payoff, adversary_payoff, actions, adversary_actions, demand_potential = result.total_payoff()\n",
    "print(payoff)\n",
    "print(adversary_payoff)\n",
    "print(actions)\n",
    "print(adversary_actions)\n",
    "print(demand_potential)"
   ]
  },
  {
   "cell_type": "code",
   "execution_count": null,
   "metadata": {},
   "outputs": [],
   "source": [
    "adversary_probabilities=[0]*len(AdversaryModes)\n",
    "# Testing against one type of opponent by changing the * below to be the first number\n",
    "adversary_probabilities[11]=1\n",
    "result = Test(game, Qtable, discount_factor, adversary_probabilities)\n",
    "payoff, adversary_payoff, actions, adversary_actions, demand_potential = result.total_payoff()\n",
    "print(payoff)\n",
    "print(adversary_payoff)\n",
    "print(actions)\n",
    "print(adversary_actions)\n",
    "print(demand_potential)"
   ]
  },
  {
   "cell_type": "code",
   "execution_count": null,
   "metadata": {},
   "outputs": [],
   "source": []
  }
 ],
 "metadata": {
  "kernelspec": {
   "display_name": "Python 3 (ipykernel)",
   "language": "python",
   "name": "python3"
  },
  "language_info": {
   "codemirror_mode": {
    "name": "ipython",
    "version": 3
   },
   "file_extension": ".py",
   "mimetype": "text/x-python",
   "name": "python",
   "nbconvert_exporter": "python",
   "pygments_lexer": "ipython3",
   "version": "3.9.13"
  }
 },
 "nbformat": 4,
 "nbformat_minor": 4
}
