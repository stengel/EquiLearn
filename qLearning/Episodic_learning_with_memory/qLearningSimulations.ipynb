{
 "cells": [
  {
   "cell_type": "code",
   "execution_count": 1,
   "metadata": {},
   "outputs": [],
   "source": [
    "from learningAgent import LearningAlgorithm\n",
    "from environment import Model, AdversaryModes\n",
    "from Qtable import QTable\n",
    "from test import Test\n",
    "import numpy as np"
   ]
  },
  {
   "cell_type": "code",
   "execution_count": 2,
   "metadata": {},
   "outputs": [],
   "source": [
    "np.random.seed(10)"
   ]
  },
  {
   "cell_type": "code",
   "execution_count": 3,
   "metadata": {},
   "outputs": [],
   "source": [
    "total_demand = 400\n",
    "agent_cost = 57\n",
    "adversary_cost = 71 \n",
    "costs = [agent_cost,adversary_cost]\n",
    "total_stages = 25\n",
    "adversary_probabilities=[0]*len(AdversaryModes)\n",
    "adversary_probabilities[10]=1 \n",
    "game = Model(total_demand, costs, total_stages, adversary_probabilities)"
   ]
  },
  {
   "cell_type": "code",
   "execution_count": 4,
   "metadata": {},
   "outputs": [],
   "source": [
    "number_actions = 50\n",
    "number_demands = total_demand + 1"
   ]
  },
  {
   "cell_type": "code",
   "execution_count": 5,
   "metadata": {},
   "outputs": [],
   "source": [
    "# Learning rate is given as [numerator,denominator] which gives us a learning rate function of \n",
    "# numerator/(n+demoninator)\n",
    "Qtable = QTable(number_demands, number_actions, total_stages , learning_rate = [1000000,1000000])"
   ]
  },
  {
   "cell_type": "code",
   "execution_count": 6,
   "metadata": {},
   "outputs": [],
   "source": [
    "number_episodes = 100_000_000\n",
    "discount_factor = 1"
   ]
  },
  {
   "cell_type": "code",
   "execution_count": 7,
   "metadata": {},
   "outputs": [],
   "source": [
    "algorithm = LearningAlgorithm(game, Qtable, number_episodes, discount_factor)"
   ]
  },
  {
   "cell_type": "code",
   "execution_count": 8,
   "metadata": {
    "scrolled": true
   },
   "outputs": [
    {
     "name": "stdout",
     "output_type": "stream",
     "text": [
      "0\n",
      "500000\n",
      "1000000\n",
      "1500000\n",
      "2000000\n",
      "2500000\n",
      "3000000\n",
      "3500000\n",
      "4000000\n",
      "4500000\n",
      "5000000\n",
      "5500000\n",
      "6000000\n",
      "6500000\n",
      "7000000\n",
      "7500000\n",
      "8000000\n",
      "8500000\n",
      "9000000\n",
      "9500000\n",
      "10000000\n",
      "10500000\n",
      "11000000\n",
      "11500000\n",
      "12000000\n",
      "12500000\n",
      "13000000\n",
      "13500000\n",
      "14000000\n",
      "14500000\n",
      "15000000\n",
      "15500000\n",
      "16000000\n",
      "16500000\n",
      "17000000\n",
      "17500000\n",
      "18000000\n",
      "18500000\n",
      "19000000\n",
      "19500000\n",
      "20000000\n",
      "20500000\n",
      "21000000\n",
      "21500000\n",
      "22000000\n",
      "22500000\n",
      "23000000\n",
      "23500000\n",
      "24000000\n",
      "24500000\n",
      "25000000\n",
      "25500000\n",
      "26000000\n",
      "26500000\n",
      "27000000\n",
      "27500000\n",
      "28000000\n",
      "28500000\n",
      "29000000\n",
      "29500000\n",
      "30000000\n",
      "30500000\n",
      "31000000\n",
      "31500000\n",
      "32000000\n",
      "32500000\n",
      "33000000\n",
      "33500000\n",
      "34000000\n",
      "34500000\n",
      "35000000\n",
      "35500000\n",
      "36000000\n",
      "36500000\n",
      "37000000\n",
      "37500000\n",
      "38000000\n",
      "38500000\n",
      "39000000\n",
      "39500000\n",
      "40000000\n",
      "40500000\n",
      "41000000\n",
      "41500000\n",
      "42000000\n",
      "42500000\n",
      "43000000\n",
      "43500000\n",
      "44000000\n",
      "44500000\n",
      "45000000\n",
      "45500000\n",
      "46000000\n",
      "46500000\n",
      "47000000\n",
      "47500000\n",
      "48000000\n",
      "48500000\n",
      "49000000\n",
      "49500000\n",
      "50000000\n",
      "50500000\n",
      "51000000\n",
      "51500000\n",
      "52000000\n",
      "52500000\n",
      "53000000\n",
      "53500000\n",
      "54000000\n",
      "54500000\n",
      "55000000\n",
      "55500000\n",
      "56000000\n",
      "56500000\n",
      "57000000\n",
      "57500000\n",
      "58000000\n",
      "58500000\n",
      "59000000\n",
      "59500000\n",
      "60000000\n",
      "60500000\n",
      "61000000\n",
      "61500000\n",
      "62000000\n",
      "62500000\n",
      "63000000\n",
      "63500000\n",
      "64000000\n",
      "64500000\n",
      "65000000\n",
      "65500000\n",
      "66000000\n",
      "66500000\n",
      "67000000\n",
      "67500000\n",
      "68000000\n",
      "68500000\n",
      "69000000\n",
      "69500000\n",
      "70000000\n",
      "70500000\n",
      "71000000\n",
      "71500000\n",
      "72000000\n",
      "72500000\n",
      "73000000\n",
      "73500000\n",
      "74000000\n",
      "74500000\n",
      "75000000\n",
      "75500000\n",
      "76000000\n",
      "76500000\n",
      "77000000\n",
      "77500000\n",
      "78000000\n",
      "78500000\n",
      "79000000\n",
      "79500000\n",
      "80000000\n",
      "80500000\n",
      "81000000\n",
      "81500000\n",
      "82000000\n",
      "82500000\n",
      "83000000\n",
      "83500000\n",
      "84000000\n",
      "84500000\n",
      "85000000\n",
      "85500000\n",
      "86000000\n",
      "86500000\n",
      "87000000\n",
      "87500000\n",
      "88000000\n",
      "88500000\n",
      "89000000\n",
      "89500000\n",
      "90000000\n",
      "90500000\n",
      "91000000\n",
      "91500000\n",
      "92000000\n",
      "92500000\n",
      "93000000\n",
      "93500000\n",
      "94000000\n",
      "94500000\n",
      "95000000\n",
      "95500000\n",
      "96000000\n",
      "96500000\n",
      "97000000\n",
      "97500000\n",
      "98000000\n",
      "98500000\n",
      "99000000\n",
      "99500000\n"
     ]
    }
   ],
   "source": [
    "algorithm.solver()"
   ]
  },
  {
   "cell_type": "code",
   "execution_count": 16,
   "metadata": {},
   "outputs": [
    {
     "data": {
      "text/plain": [
       "98497.82474741788"
      ]
     },
     "execution_count": 16,
     "metadata": {},
     "output_type": "execute_result"
    }
   ],
   "source": [
    "max(Qtable.Q_table[200, :, 0, 0])"
   ]
  },
  {
   "cell_type": "code",
   "execution_count": 10,
   "metadata": {},
   "outputs": [
    {
     "data": {
      "text/plain": [
       "0.17271704738154614"
      ]
     },
     "execution_count": 10,
     "metadata": {},
     "output_type": "execute_result"
    }
   ],
   "source": [
    "np.count_nonzero(Qtable.Q_table) / (number_actions * number_demands * number_actions* total_stages)"
   ]
  },
  {
   "cell_type": "code",
   "execution_count": 11,
   "metadata": {},
   "outputs": [],
   "source": [
    "adversary_probabilities=[0]*len(AdversaryModes)\n",
    "adversary_probabilities[10]=1 # We can test the Q-Table against any strategy. "
   ]
  },
  {
   "cell_type": "code",
   "execution_count": 12,
   "metadata": {},
   "outputs": [],
   "source": [
    "result = Test(game, Qtable, discount_factor, adversary_probabilities)"
   ]
  },
  {
   "cell_type": "code",
   "execution_count": 13,
   "metadata": {},
   "outputs": [],
   "source": [
    "import numpy as np\n",
    "import matplotlib.pyplot as plt"
   ]
  },
  {
   "cell_type": "code",
   "execution_count": 14,
   "metadata": {},
   "outputs": [
    {
     "name": "stdout",
     "output_type": "stream",
     "text": [
      "98535.0\n",
      "65913.0\n",
      "[118 131 113 108  99 114 107  87  91 100  84  92  86  95  89  95  91  87\n",
      "  87  89  89  89  99 107 119]\n",
      "[132 132 132  95 104  91  91  91  91  91  91  91  91  91  91  91  91  91\n",
      "  91  91  91  91  91  91 143]\n",
      "[200. 207. 207. 216. 209. 211. 199. 191. 193. 193. 188. 191. 190. 192.\n",
      " 190. 191. 189. 189. 191. 193. 194. 195. 196. 192. 184.]\n"
     ]
    }
   ],
   "source": [
    "# Returns the optimal payoff and actions according to the Qtable\n",
    "payoff, adversary_payoff, actions, adversary_actions, demand_potential = result.total_payoff()\n",
    "print(payoff)\n",
    "print(adversary_payoff)\n",
    "print(actions)\n",
    "print(adversary_actions)\n",
    "print(demand_potential)"
   ]
  },
  {
   "cell_type": "code",
   "execution_count": 15,
   "metadata": {},
   "outputs": [
    {
     "data": {
      "text/plain": [
       "0.20326651733898837"
      ]
     },
     "execution_count": 15,
     "metadata": {},
     "output_type": "execute_result"
    }
   ],
   "source": [
    "# The percentage error of the Qtable. This has to be measured against the same opponent that \n",
    "# it was trained against, as this is a measure of how 'complete' the training is.\n",
    "result.error(10000)"
   ]
  },
  {
   "cell_type": "code",
   "execution_count": null,
   "metadata": {},
   "outputs": [],
   "source": [
    "from test import Test"
   ]
  }
 ],
 "metadata": {
  "kernelspec": {
   "display_name": "Python 3 (ipykernel)",
   "language": "python",
   "name": "python3"
  },
  "language_info": {
   "codemirror_mode": {
    "name": "ipython",
    "version": 3
   },
   "file_extension": ".py",
   "mimetype": "text/x-python",
   "name": "python",
   "nbconvert_exporter": "python",
   "pygments_lexer": "ipython3",
   "version": "3.9.7"
  }
 },
 "nbformat": 4,
 "nbformat_minor": 4
}
