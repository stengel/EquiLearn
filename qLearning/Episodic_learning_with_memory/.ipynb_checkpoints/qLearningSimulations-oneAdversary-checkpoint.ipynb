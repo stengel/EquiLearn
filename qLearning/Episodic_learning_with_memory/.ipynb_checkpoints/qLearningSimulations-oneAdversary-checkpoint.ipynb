{
 "cells": [
  {
   "cell_type": "code",
   "execution_count": 1,
   "metadata": {},
   "outputs": [],
   "source": [
    "from learningAgent import LearningAlgorithm\n",
    "from environment import Model, AdversaryModes\n",
    "from Qtable import QTable\n",
    "from test import Test\n",
    "import numpy as np\n",
    "import matplotlib.pyplot as plt\n",
    "import pandas as pd"
   ]
  },
  {
   "cell_type": "code",
   "execution_count": 2,
   "metadata": {},
   "outputs": [],
   "source": [
    "np.random.seed(11)"
   ]
  },
  {
   "cell_type": "code",
   "execution_count": 3,
   "metadata": {},
   "outputs": [],
   "source": [
    "total_demand = 400\n",
    "agent_cost = 57\n",
    "adversary_cost = 71 \n",
    "costs = [agent_cost,adversary_cost]\n",
    "total_stages = 25\n",
    "adversary_probabilities=[0]*len(AdversaryModes)\n",
    "# Below is where we decide what adversaries we train against- see environment.py for the numbers\n",
    "# Replace * and ** with the two number associated with the opponents at the bottom of environment.py\n",
    "# adversary_probabilities[10]= 0.5\n",
    "adversary_probabilities[10] = 1\n",
    "game = Model(total_demand, costs, total_stages, adversary_probabilities)"
   ]
  },
  {
   "cell_type": "code",
   "execution_count": 4,
   "metadata": {},
   "outputs": [
    {
     "name": "stdout",
     "output_type": "stream",
     "text": [
      "2040816\n"
     ]
    }
   ],
   "source": [
    "number_actions = 50\n",
    "number_demands = total_demand + 1\n",
    "discount_factor = 1\n",
    "number_episodes = 100_000_000\n",
    "constant = int(number_episodes/49)\n",
    "print(constant)"
   ]
  },
  {
   "cell_type": "code",
   "execution_count": 5,
   "metadata": {},
   "outputs": [],
   "source": [
    "# Learning rate is given as [numerator,denominator] which gives us a learning rate function of \n",
    "# numerator/(n+denominator)\n",
    "Qtable = QTable(number_demands, number_actions, total_stages , learning_rate = [constant,constant])"
   ]
  },
  {
   "cell_type": "code",
   "execution_count": 6,
   "metadata": {},
   "outputs": [],
   "source": [
    "algorithm = LearningAlgorithm(game, Qtable, number_episodes, discount_factor)"
   ]
  },
  {
   "cell_type": "code",
   "execution_count": 7,
   "metadata": {},
   "outputs": [
    {
     "name": "stdout",
     "output_type": "stream",
     "text": [
      "0 0.5897715369319796\n",
      "Current payoff for adversary 1:  80171.0\n",
      "Current payoff for adversary 1:  88691.0\n",
      "Current payoff for adversary 1:  95241.0\n",
      "Current payoff for adversary 1:  91616.0\n",
      "Current payoff for adversary 1:  105628.0\n",
      "Current payoff for adversary 1:  62523.0\n",
      "Current payoff for adversary 1:  105138.0\n",
      "Current payoff for adversary 1:  78727.0\n",
      "Current payoff for adversary 1:  85785.0\n",
      "Current payoff for adversary 1:  86745.0\n",
      "Current payoff for adversary 1:  93727.0\n",
      "Current payoff for adversary 1:  104096.0\n",
      "Current payoff for adversary 1:  105856.0\n",
      "Current payoff for adversary 1:  96217.0\n",
      "Current payoff for adversary 1:  97545.0\n",
      "Current payoff for adversary 1:  95933.0\n",
      "Current payoff for adversary 1:  93805.0\n",
      "Current payoff for adversary 1:  105549.0\n",
      "Current payoff for adversary 1:  88906.0\n",
      "Current payoff for adversary 1:  107502.0\n",
      "Current payoff for adversary 1:  108536.0\n",
      "Current payoff for adversary 1:  108047.0\n",
      "Current payoff for adversary 1:  107102.0\n",
      "Current payoff for adversary 1:  94372.0\n",
      "Current payoff for adversary 1:  84036.0\n",
      "Current payoff for adversary 1:  96009.0\n",
      "Current payoff for adversary 1:  96923.0\n",
      "Current payoff for adversary 1:  96544.0\n",
      "Current payoff for adversary 1:  98038.0\n",
      "Current payoff for adversary 1:  98316.0\n",
      "Current payoff for adversary 1:  102918.0\n",
      "Current payoff for adversary 1:  103174.0\n",
      "Current payoff for adversary 1:  97146.0\n",
      "Current payoff for adversary 1:  101444.0\n",
      "Current payoff for adversary 1:  107079.0\n",
      "Current payoff for adversary 1:  107258.0\n",
      "Current payoff for adversary 1:  108273.0\n",
      "Current payoff for adversary 1:  108879.0\n",
      "Current payoff for adversary 1:  108815.0\n",
      "Current payoff for adversary 1:  89023.0\n",
      "Current payoff for adversary 1:  108685.0\n",
      "Current payoff for adversary 1:  109782.0\n",
      "Current payoff for adversary 1:  109246.0\n",
      "Current payoff for adversary 1:  107501.0\n",
      "Current payoff for adversary 1:  108430.0\n",
      "Current payoff for adversary 1:  88807.0\n",
      "Current payoff for adversary 1:  89579.0\n",
      "Current payoff for adversary 1:  89104.0\n",
      "Current payoff for adversary 1:  89185.0\n",
      "Current payoff for adversary 1:  90581.0\n",
      "50 0.014010674672339848\n",
      "Current payoff for adversary 1:  91426.0\n",
      "Current payoff for adversary 1:  92414.0\n",
      "Current payoff for adversary 1:  89640.0\n",
      "Current payoff for adversary 1:  105000.0\n",
      "Current payoff for adversary 1:  104323.0\n",
      "Current payoff for adversary 1:  104980.0\n",
      "Current payoff for adversary 1:  111710.0\n",
      "Current payoff for adversary 1:  95604.0\n",
      "Current payoff for adversary 1:  96814.0\n",
      "Current payoff for adversary 1:  108008.0\n",
      "Current payoff for adversary 1:  115804.0\n",
      "Current payoff for adversary 1:  105631.0\n",
      "Current payoff for adversary 1:  104537.0\n",
      "Current payoff for adversary 1:  105038.0\n",
      "Current payoff for adversary 1:  104903.0\n",
      "Current payoff for adversary 1:  113073.0\n",
      "Current payoff for adversary 1:  113678.0\n",
      "Current payoff for adversary 1:  113678.0\n",
      "Current payoff for adversary 1:  104090.0\n",
      "Current payoff for adversary 1:  104346.0\n",
      "Current payoff for adversary 1:  113801.0\n",
      "Current payoff for adversary 1:  113801.0\n",
      "72\n"
     ]
    },
    {
     "data": {
      "text/plain": [
       "[<matplotlib.lines.Line2D at 0x1e89d53f7c0>]"
      ]
     },
     "execution_count": 7,
     "metadata": {},
     "output_type": "execute_result"
    },
    {
     "data": {
      "image/png": "[encoded data removed]",
      "text/plain": [
       "<Figure size 432x288 with 1 Axes>"
      ]
     },
     "metadata": {
      "needs_background": "light"
     },
     "output_type": "display_data"
    }
   ],
   "source": [
    "# Below is the first stage of learning- actions are chosen randomly.\n",
    "number_episodes_per_round = 100_000\n",
    "number_rounds = int(number_episodes / number_episodes_per_round)\n",
    "errors = np.zeros(number_rounds)\n",
    "final_round = 0\n",
    "opponent1_results = list()\n",
    "#opponent2_results = list()\n",
    "for round_ in range(number_rounds):\n",
    "    algorithm.continue_learning(number_episodes_per_round,number_episodes_per_round * round_ +1)\n",
    "    adversary_probabilities[10]= 1\n",
    "    # adversary_probabilities[11] = 0.5\n",
    "    result = Test(game, Qtable, discount_factor, adversary_probabilities)\n",
    "    errors[round_] = result.error(1000)\n",
    "    if round_ % 50 == 0:\n",
    "        print(round_, errors[round_])\n",
    "    if round_ > 10 and np.max(errors[round_-10:round_]) < 0.01:\n",
    "        print(round_)\n",
    "        final_round = round_\n",
    "        break\n",
    "        \n",
    "    adversary_probabilities=[0]*len(AdversaryModes)\n",
    "    adversary_probabilities[10]=1\n",
    "    result = Test(game, Qtable, discount_factor, adversary_probabilities)\n",
    "    payoff1, adversary_payoff, actions, adversary_actions, demand_potential = result.total_payoff()\n",
    "    opponent1_results.append(payoff1)\n",
    "    print('Current payoff for adversary 1: ', payoff1)\n",
    "    \n",
    "   # adversary_probabilities=[0]*len(AdversaryModes)\n",
    "   # adversary_probabilities[11]=1\n",
    "   # result = Test(game, Qtable, discount_factor, adversary_probabilities)\n",
    "   # payoff2, adversary_payoff, actions, adversary_actions, demand_potential = result.total_payoff()\n",
    "    # opponent2_results.append(payoff2)\n",
    "    # print('Current payoff for adversary 2: ', payoff2)\n",
    "    \n",
    "    if (round_ == number_rounds - 1):\n",
    "        final_round = round_\n",
    "    \n",
    "plt.plot(errors[0:final_round+1])"
   ]
  },
  {
   "cell_type": "code",
   "execution_count": null,
   "metadata": {},
   "outputs": [
    {
     "name": "stdout",
     "output_type": "stream",
     "text": [
      "Round  0  of  185\n",
      "Best payoff:  127495\n",
      "Best actions:  [121, 128, 125, 123, 122, 114, 115, 106, 112, 109, 108, 107, 102, 114, 101, 113, 104, 109, 107, 107, 110, 105, 105, 112, 130]\n",
      "Current payoff for adversary 1:  118224.0\n",
      "Round  1  of  185\n",
      "Best payoff:  130757\n",
      "Best actions:  [121, 128, 132, 124, 120, 116, 113, 113, 111, 110, 117, 105, 111, 110, 117, 109, 115, 107, 109, 109, 116, 109, 111, 115, 130]\n",
      "Current payoff for adversary 1:  130519.0\n",
      "Round  2  of  185\n",
      "Best payoff:  133134\n",
      "Best actions:  [118, 131, 132, 128, 122, 119, 116, 116, 114, 114, 113, 114, 113, 115, 112, 117, 117, 109, 114, 115, 114, 108, 114, 111, 131]\n",
      "Current payoff for adversary 1:  132139.0\n",
      "Round  3  of  185\n",
      "Best payoff:  133675\n",
      "Best actions:  [118, 131, 132, 128, 128, 123, 119, 119, 114, 114, 116, 112, 114, 114, 116, 116, 115, 119, 109, 119, 114, 108, 114, 108, 133]\n",
      "Current payoff for adversary 1:  132684.0\n",
      "Round  4  of  185\n",
      "Best payoff:  134211\n",
      "Best actions:  [117, 131, 132, 131, 124, 122, 120, 117, 117, 115, 117, 115, 115, 113, 117, 115, 115, 123, 107, 116, 111, 116, 113, 108, 133]\n",
      "Current payoff for adversary 1:  133626.0\n",
      "Round  5  of  185\n",
      "Best payoff:  135075\n",
      "Best actions:  [118, 132, 132, 131, 132, 132, 126, 126, 118, 118, 118, 113, 115, 117, 114, 121, 113, 112, 116, 122, 112, 115, 113, 123, 130]\n",
      "Current payoff for adversary 1:  134911.0\n",
      "Round  6  of  185\n",
      "Best payoff:  135187\n",
      "Best actions:  [118, 132, 132, 132, 132, 132, 126, 122, 122, 116, 116, 114, 114, 114, 114, 114, 114, 113, 116, 114, 114, 112, 114, 108, 133]\n",
      "Current payoff for adversary 1:  134357.0\n",
      "Round  7  of  185\n",
      "Best payoff:  135849\n",
      "Best actions:  [118, 132, 132, 132, 132, 131, 128, 124, 121, 118, 120, 116, 114, 115, 117, 116, 113, 115, 116, 117, 113, 115, 116, 122, 130]\n",
      "Current payoff for adversary 1:  135744.0\n",
      "Round  8  of  185\n",
      "Best payoff:  136066\n",
      "Best actions:  [117, 132, 131, 131, 131, 131, 126, 124, 122, 120, 118, 119, 114, 115, 115, 118, 116, 113, 116, 117, 113, 115, 115, 111, 133]\n",
      "Current payoff for adversary 1:  135563.0\n",
      "Round  9  of  185\n",
      "Best payoff:  136068\n",
      "Best actions:  [118, 131, 131, 132, 131, 131, 132, 125, 123, 120, 118, 119, 116, 114, 118, 118, 112, 116, 118, 116, 114, 115, 115, 111, 133]\n",
      "Current payoff for adversary 1:  135121.0\n",
      "Round  10  of  185\n",
      "Best payoff:  136307\n",
      "Best actions:  [117, 131, 131, 132, 131, 132, 130, 125, 127, 123, 120, 121, 118, 117, 115, 115, 115, 115, 117, 113, 115, 115, 115, 111, 133]\n",
      "Current payoff for adversary 1:  135944.0\n",
      "Round  11  of  185\n",
      "Best payoff:  136656\n",
      "Best actions:  [118, 132, 132, 132, 132, 132, 128, 126, 125, 123, 123, 121, 118, 117, 115, 115, 115, 116, 118, 116, 113, 115, 116, 108, 134]\n",
      "Current payoff for adversary 1:  135054.0\n",
      "Round  12  of  185\n"
     ]
    }
   ],
   "source": [
    "# Below is the second stage of learning- actions are chosen according to an epsilon greedy strategy.\n",
    "episode_counter = (final_round + 1) * number_episodes_per_round\n",
    "episodes_left = number_episodes - episode_counter\n",
    "number_episodes_per_round = 500_000\n",
    "number_rounds = int(episodes_left / number_episodes_per_round)\n",
    "\n",
    "for round_ in range(number_rounds): \n",
    "    print('Round ', round_, ' of ', number_rounds)\n",
    "    algorithm.epsilon_greedy_learning(number_episodes_per_round, episode_counter)\n",
    "    \n",
    "    adversary_probabilities=[0]*len(AdversaryModes)\n",
    "    adversary_probabilities[10]=1\n",
    "    result = Test(game, Qtable, discount_factor, adversary_probabilities)\n",
    "    payoff1, adversary_payoff, actions, adversary_actions, demand_potential = result.total_payoff()\n",
    "    opponent1_results.append(payoff1)\n",
    "    print('Current payoff for adversary 1: ', payoff1)\n",
    "    \n",
    "#     adversary_probabilities=[0]*len(AdversaryModes)\n",
    "#     adversary_probabilities[11]=1\n",
    "#     result = Test(game, Qtable, discount_factor, adversary_probabilities)\n",
    "#     payoff2, adversary_payoff, actions, adversary_actions, demand_potential = result.total_payoff()\n",
    "#     opponent2_results.append(payoff2)\n",
    "#     print('Current payoff for adversary 2: ', payoff2)\n",
    "    \n",
    "    episode_counter += number_episodes_per_round\n",
    "    \n",
    "plt.plot(opponent1_results)\n",
    "# plt.plot(opponent2_results)\n",
    "plt.title(\"Payoff over the rounds\")\n",
    "plt.xlabel(\"Rounds\")\n",
    "plt.ylabel(\"Payoff at the end of each round\")\n",
    "legend = [\"adversary 1\"]\n",
    "plt.legend(legend)"
   ]
  },
  {
   "cell_type": "code",
   "execution_count": null,
   "metadata": {},
   "outputs": [],
   "source": [
    "Qtable.save(\"Qtable_guess132\")\n",
    "\n",
    "df1 = pd.DataFrame(opponent1_results)\n",
    "#df2 = pd.DataFrame(opponent2_results)\n",
    "\n",
    "writer = pd.ExcelWriter('payoff_10.xlsx', engine='xlsxwriter')\n",
    "df1.to_excel(writer, sheet_name='payoff_10', index=False)\n",
    "#df2.to_excel(writer, sheet_name='payoff2', index=False)\n",
    "writer.save()"
   ]
  },
  {
   "cell_type": "code",
   "execution_count": null,
   "metadata": {},
   "outputs": [],
   "source": [
    "# We now have the trained agent. We want to test it against each opponent individually, so that\n",
    "# we can compare it against the agent that is just trained against this opponent. "
   ]
  },
  {
   "cell_type": "code",
   "execution_count": null,
   "metadata": {},
   "outputs": [],
   "source": [
    "adversary_probabilities=[0]*len(AdversaryModes)\n",
    "# Testing against one type of opponent by changing the * below to be the first number\n",
    "adversary_probabilities[10]=1\n",
    "result = Test(game, Qtable, discount_factor, adversary_probabilities)\n",
    "payoff, adversary_payoff, actions, adversary_actions, demand_potential = result.total_payoff()\n",
    "print(payoff)\n",
    "print(adversary_payoff)\n",
    "print(actions)\n",
    "print(adversary_actions)\n",
    "print(demand_potential)"
   ]
  },
  {
   "cell_type": "code",
   "execution_count": null,
   "metadata": {},
   "outputs": [],
   "source": [
    "adversary_probabilities=[0]*len(AdversaryModes)\n",
    "# Testing against one type of opponent by changing the * below to be the first number\n",
    "adversary_probabilities[11]=1\n",
    "result = Test(game, Qtable, discount_factor, adversary_probabilities)\n",
    "payoff, adversary_payoff, actions, adversary_actions, demand_potential = result.total_payoff()\n",
    "print(payoff)\n",
    "print(adversary_payoff)\n",
    "print(actions)\n",
    "print(adversary_actions)\n",
    "print(demand_potential)"
   ]
  },
  {
   "cell_type": "code",
   "execution_count": null,
   "metadata": {},
   "outputs": [],
   "source": []
  }
 ],
 "metadata": {
  "kernelspec": {
   "display_name": "Python 3 (ipykernel)",
   "language": "python",
   "name": "python3"
  },
  "language_info": {
   "codemirror_mode": {
    "name": "ipython",
    "version": 3
   },
   "file_extension": ".py",
   "mimetype": "text/x-python",
   "name": "python",
   "nbconvert_exporter": "python",
   "pygments_lexer": "ipython3",
   "version": "3.9.7"
  }
 },
 "nbformat": 4,
 "nbformat_minor": 4
}
