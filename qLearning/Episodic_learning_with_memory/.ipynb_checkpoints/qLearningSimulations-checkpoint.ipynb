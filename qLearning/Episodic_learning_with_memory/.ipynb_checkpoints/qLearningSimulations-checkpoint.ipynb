{
 "cells": [
  {
   "cell_type": "code",
   "execution_count": 1,
   "metadata": {},
   "outputs": [],
   "source": [
    "from learningAgent import LearningAlgorithm\n",
    "from environment import Model, AdversaryModes\n",
    "from Qtable import QTable\n",
    "from test import Test\n",
    "import numpy as np\n",
    "import matplotlib.pyplot as plt\n",
    "import pandas as pd"
   ]
  },
  {
   "cell_type": "code",
   "execution_count": 2,
   "metadata": {},
   "outputs": [],
   "source": [
    "np.random.seed(11)"
   ]
  },
  {
   "cell_type": "code",
   "execution_count": 3,
   "metadata": {},
   "outputs": [],
   "source": [
    "total_demand = 400\n",
    "agent_cost = 57\n",
    "adversary_cost = 71 \n",
    "costs = [agent_cost,adversary_cost]\n",
    "total_stages = 25\n",
    "adversary_probabilities=[0]*len(AdversaryModes)\n",
    "# Below is where we decide what adversaries we train against- see environment.py for the numbers\n",
    "# Replace * and ** with the two number associated with the opponents at the bottom of environment.py\n",
    "adversary_probabilities[10]= 0.5\n",
    "adversary_probabilities[11] = 0.5\n",
    "game = Model(total_demand, costs, total_stages, adversary_probabilities)"
   ]
  },
  {
   "cell_type": "code",
   "execution_count": 4,
   "metadata": {},
   "outputs": [
    {
     "name": "stdout",
     "output_type": "stream",
     "text": [
      "204\n"
     ]
    }
   ],
   "source": [
    "number_actions = 50\n",
    "number_demands = total_demand + 1\n",
    "discount_factor = 1\n",
    "number_episodes = 10_000\n",
    "constant = int(number_episodes/49)\n",
    "print(constant)"
   ]
  },
  {
   "cell_type": "code",
   "execution_count": 5,
   "metadata": {},
   "outputs": [],
   "source": [
    "# Learning rate is given as [numerator,denominator] which gives us a learning rate function of \n",
    "# numerator/(n+denominator)\n",
    "Qtable = QTable(number_demands, number_actions, total_stages , learning_rate = [constant,constant])"
   ]
  },
  {
   "cell_type": "code",
   "execution_count": 6,
   "metadata": {},
   "outputs": [],
   "source": [
    "algorithm = LearningAlgorithm(game, Qtable, number_episodes, discount_factor)"
   ]
  },
  {
   "cell_type": "code",
   "execution_count": 7,
   "metadata": {},
   "outputs": [
    {
     "name": "stdout",
     "output_type": "stream",
     "text": [
      "0 0.9457689764160323\n",
      "Current payoff for adversary 1:  59620.0\n",
      "Current payoff for adversary 2:  36087.0\n",
      "Current payoff for adversary 1:  89207.0\n",
      "Current payoff for adversary 2:  53712.0\n",
      "Current payoff for adversary 1:  12040.0\n",
      "Current payoff for adversary 2:  2756.0\n",
      "Current payoff for adversary 1:  89207.0\n",
      "Current payoff for adversary 2:  54176.0\n",
      "Current payoff for adversary 1:  89207.0\n",
      "Current payoff for adversary 2:  54176.0\n",
      "Current payoff for adversary 1:  89207.0\n",
      "Current payoff for adversary 2:  54176.0\n",
      "Current payoff for adversary 1:  89207.0\n",
      "Current payoff for adversary 2:  51573.0\n",
      "Current payoff for adversary 1:  89207.0\n",
      "Current payoff for adversary 2:  51573.0\n",
      "Current payoff for adversary 1:  89207.0\n",
      "Current payoff for adversary 2:  51573.0\n",
      "Current payoff for adversary 1:  89207.0\n",
      "Current payoff for adversary 2:  51298.0\n",
      "Current payoff for adversary 1:  89207.0\n",
      "Current payoff for adversary 2:  51298.0\n",
      "Current payoff for adversary 1:  89207.0\n",
      "Current payoff for adversary 2:  51298.0\n",
      "Current payoff for adversary 1:  89207.0\n",
      "Current payoff for adversary 2:  51298.0\n",
      "Current payoff for adversary 1:  89207.0\n",
      "Current payoff for adversary 2:  51298.0\n",
      "Current payoff for adversary 1:  89207.0\n",
      "Current payoff for adversary 2:  51336.0\n",
      "Current payoff for adversary 1:  89207.0\n",
      "Current payoff for adversary 2:  51336.0\n",
      "Current payoff for adversary 1:  89207.0\n",
      "Current payoff for adversary 2:  49586.0\n",
      "Current payoff for adversary 1:  89207.0\n",
      "Current payoff for adversary 2:  49586.0\n",
      "Current payoff for adversary 1:  89207.0\n",
      "Current payoff for adversary 2:  49586.0\n",
      "Current payoff for adversary 1:  89207.0\n",
      "Current payoff for adversary 2:  50712.0\n",
      "Current payoff for adversary 1:  89207.0\n",
      "Current payoff for adversary 2:  50712.0\n",
      "Current payoff for adversary 1:  89207.0\n",
      "Current payoff for adversary 2:  50712.0\n",
      "Current payoff for adversary 1:  89207.0\n",
      "Current payoff for adversary 2:  50712.0\n",
      "Current payoff for adversary 1:  89207.0\n",
      "Current payoff for adversary 2:  50712.0\n",
      "Current payoff for adversary 1:  89207.0\n",
      "Current payoff for adversary 2:  50712.0\n",
      "Current payoff for adversary 1:  89207.0\n",
      "Current payoff for adversary 2:  50712.0\n",
      "Current payoff for adversary 1:  89207.0\n",
      "Current payoff for adversary 2:  50712.0\n",
      "Current payoff for adversary 1:  89207.0\n",
      "Current payoff for adversary 2:  50712.0\n",
      "Current payoff for adversary 1:  89207.0\n",
      "Current payoff for adversary 2:  50712.0\n",
      "Current payoff for adversary 1:  89207.0\n",
      "Current payoff for adversary 2:  49478.0\n",
      "Current payoff for adversary 1:  89207.0\n",
      "Current payoff for adversary 2:  49478.0\n",
      "Current payoff for adversary 1:  89207.0\n",
      "Current payoff for adversary 2:  49478.0\n",
      "Current payoff for adversary 1:  89207.0\n",
      "Current payoff for adversary 2:  49478.0\n",
      "Current payoff for adversary 1:  89207.0\n",
      "Current payoff for adversary 2:  49478.0\n",
      "Current payoff for adversary 1:  89207.0\n",
      "Current payoff for adversary 2:  49478.0\n",
      "Current payoff for adversary 1:  89207.0\n",
      "Current payoff for adversary 2:  49478.0\n",
      "Current payoff for adversary 1:  89207.0\n",
      "Current payoff for adversary 2:  49478.0\n",
      "Current payoff for adversary 1:  89207.0\n",
      "Current payoff for adversary 2:  49478.0\n",
      "Current payoff for adversary 1:  89207.0\n",
      "Current payoff for adversary 2:  49478.0\n",
      "Current payoff for adversary 1:  89207.0\n",
      "Current payoff for adversary 2:  49478.0\n",
      "Current payoff for adversary 1:  89207.0\n",
      "Current payoff for adversary 2:  49478.0\n",
      "Current payoff for adversary 1:  89207.0\n",
      "Current payoff for adversary 2:  49478.0\n",
      "Current payoff for adversary 1:  89207.0\n",
      "Current payoff for adversary 2:  49478.0\n",
      "Current payoff for adversary 1:  89207.0\n",
      "Current payoff for adversary 2:  49074.0\n",
      "Current payoff for adversary 1:  89207.0\n",
      "Current payoff for adversary 2:  49074.0\n",
      "Current payoff for adversary 1:  89207.0\n",
      "Current payoff for adversary 2:  62483.0\n",
      "Current payoff for adversary 1:  89207.0\n",
      "Current payoff for adversary 2:  62483.0\n",
      "Current payoff for adversary 1:  89207.0\n",
      "Current payoff for adversary 2:  62483.0\n",
      "Current payoff for adversary 1:  89207.0\n",
      "Current payoff for adversary 2:  62483.0\n",
      "Current payoff for adversary 1:  89207.0\n",
      "Current payoff for adversary 2:  62483.0\n",
      "50 0.9069080716378756\n",
      "Current payoff for adversary 1:  89207.0\n",
      "Current payoff for adversary 2:  62483.0\n",
      "Current payoff for adversary 1:  89207.0\n",
      "Current payoff for adversary 2:  62483.0\n",
      "Current payoff for adversary 1:  89207.0\n",
      "Current payoff for adversary 2:  62483.0\n",
      "Current payoff for adversary 1:  89207.0\n",
      "Current payoff for adversary 2:  62483.0\n",
      "Current payoff for adversary 1:  89207.0\n",
      "Current payoff for adversary 2:  62483.0\n",
      "Current payoff for adversary 1:  89207.0\n",
      "Current payoff for adversary 2:  62483.0\n",
      "Current payoff for adversary 1:  89207.0\n",
      "Current payoff for adversary 2:  62483.0\n",
      "Current payoff for adversary 1:  89207.0\n",
      "Current payoff for adversary 2:  62483.0\n",
      "Current payoff for adversary 1:  89207.0\n",
      "Current payoff for adversary 2:  62483.0\n",
      "Current payoff for adversary 1:  89207.0\n",
      "Current payoff for adversary 2:  62483.0\n",
      "Current payoff for adversary 1:  89207.0\n",
      "Current payoff for adversary 2:  62483.0\n",
      "Current payoff for adversary 1:  89207.0\n",
      "Current payoff for adversary 2:  62483.0\n",
      "Current payoff for adversary 1:  89207.0\n",
      "Current payoff for adversary 2:  62483.0\n",
      "Current payoff for adversary 1:  89207.0\n",
      "Current payoff for adversary 2:  62483.0\n",
      "Current payoff for adversary 1:  89207.0\n",
      "Current payoff for adversary 2:  62483.0\n",
      "Current payoff for adversary 1:  89207.0\n",
      "Current payoff for adversary 2:  62483.0\n",
      "Current payoff for adversary 1:  89207.0\n",
      "Current payoff for adversary 2:  62483.0\n",
      "Current payoff for adversary 1:  89207.0\n",
      "Current payoff for adversary 2:  62483.0\n",
      "Current payoff for adversary 1:  89207.0\n",
      "Current payoff for adversary 2:  62483.0\n",
      "Current payoff for adversary 1:  89207.0\n",
      "Current payoff for adversary 2:  62483.0\n",
      "Current payoff for adversary 1:  89207.0\n",
      "Current payoff for adversary 2:  62483.0\n",
      "Current payoff for adversary 1:  89207.0\n",
      "Current payoff for adversary 2:  62483.0\n",
      "Current payoff for adversary 1:  89207.0\n",
      "Current payoff for adversary 2:  62483.0\n",
      "Current payoff for adversary 1:  89207.0\n",
      "Current payoff for adversary 2:  61814.0\n",
      "Current payoff for adversary 1:  89207.0\n",
      "Current payoff for adversary 2:  61814.0\n",
      "Current payoff for adversary 1:  89207.0\n",
      "Current payoff for adversary 2:  61814.0\n",
      "Current payoff for adversary 1:  89207.0\n",
      "Current payoff for adversary 2:  61814.0\n",
      "Current payoff for adversary 1:  89207.0\n",
      "Current payoff for adversary 2:  61814.0\n",
      "Current payoff for adversary 1:  89207.0\n",
      "Current payoff for adversary 2:  61814.0\n",
      "Current payoff for adversary 1:  89207.0\n",
      "Current payoff for adversary 2:  61072.0\n",
      "Current payoff for adversary 1:  89207.0\n",
      "Current payoff for adversary 2:  61072.0\n",
      "Current payoff for adversary 1:  89207.0\n",
      "Current payoff for adversary 2:  61072.0\n",
      "Current payoff for adversary 1:  89207.0\n",
      "Current payoff for adversary 2:  61072.0\n",
      "Current payoff for adversary 1:  89207.0\n",
      "Current payoff for adversary 2:  61072.0\n",
      "Current payoff for adversary 1:  89207.0\n",
      "Current payoff for adversary 2:  61072.0\n",
      "Current payoff for adversary 1:  89207.0\n",
      "Current payoff for adversary 2:  61072.0\n",
      "Current payoff for adversary 1:  89207.0\n",
      "Current payoff for adversary 2:  61072.0\n",
      "Current payoff for adversary 1:  89207.0\n",
      "Current payoff for adversary 2:  61072.0\n",
      "Current payoff for adversary 1:  89207.0\n",
      "Current payoff for adversary 2:  61072.0\n",
      "Current payoff for adversary 1:  89207.0\n",
      "Current payoff for adversary 2:  61072.0\n",
      "Current payoff for adversary 1:  89207.0\n",
      "Current payoff for adversary 2:  61072.0\n",
      "Current payoff for adversary 1:  89207.0\n",
      "Current payoff for adversary 2:  59020.0\n",
      "Current payoff for adversary 1:  89207.0\n",
      "Current payoff for adversary 2:  59020.0\n",
      "Current payoff for adversary 1:  89207.0\n",
      "Current payoff for adversary 2:  59020.0\n",
      "Current payoff for adversary 1:  89207.0\n",
      "Current payoff for adversary 2:  59020.0\n",
      "Current payoff for adversary 1:  89207.0\n",
      "Current payoff for adversary 2:  59020.0\n",
      "Current payoff for adversary 1:  89207.0\n",
      "Current payoff for adversary 2:  59020.0\n",
      "Current payoff for adversary 1:  89207.0\n",
      "Current payoff for adversary 2:  59020.0\n",
      "Current payoff for adversary 1:  89207.0\n",
      "Current payoff for adversary 2:  59020.0\n",
      "Current payoff for adversary 1:  89207.0\n",
      "Current payoff for adversary 2:  59020.0\n"
     ]
    },
    {
     "data": {
      "text/plain": [
       "[<matplotlib.lines.Line2D at 0x17d41ad45e0>]"
      ]
     },
     "execution_count": 7,
     "metadata": {},
     "output_type": "execute_result"
    },
    {
     "data": {
      "image/png": "[encoded data removed]",
      "text/plain": [
       "<Figure size 432x288 with 1 Axes>"
      ]
     },
     "metadata": {
      "needs_background": "light"
     },
     "output_type": "display_data"
    }
   ],
   "source": [
    "# Below is the first stage of learning- actions are chosen randomly.\n",
    "number_episodes_per_round = 100\n",
    "number_rounds = int(number_episodes / number_episodes_per_round)\n",
    "errors = np.zeros(number_rounds)\n",
    "final_round = 0\n",
    "opponent1_results = list()\n",
    "opponent2_results = list()\n",
    "for round_ in range(number_rounds):\n",
    "    algorithm.continue_learning(number_episodes_per_round,number_episodes_per_round * round_ +1)\n",
    "    adversary_probabilities[10]= 0.5\n",
    "    adversary_probabilities[11] = 0.5\n",
    "    result = Test(game, Qtable, discount_factor, adversary_probabilities)\n",
    "    errors[round_] = result.error(1000)\n",
    "    if round_ % 50 == 0:\n",
    "        print(round_, errors[round_])\n",
    "    if round_ > 10 and np.max(errors[round_-10:round_]) < 0.5:\n",
    "        print(round_)\n",
    "        final_round = round_\n",
    "        break\n",
    "        \n",
    "    adversary_probabilities=[0]*len(AdversaryModes)\n",
    "    adversary_probabilities[10]=1\n",
    "    result = Test(game, Qtable, discount_factor, adversary_probabilities)\n",
    "    payoff1, adversary_payoff, actions, adversary_actions, demand_potential = result.total_payoff()\n",
    "    opponent1_results.append(payoff1)\n",
    "    print('Current payoff for adversary 1: ', payoff1)\n",
    "    \n",
    "    adversary_probabilities=[0]*len(AdversaryModes)\n",
    "    adversary_probabilities[11]=1\n",
    "    result = Test(game, Qtable, discount_factor, adversary_probabilities)\n",
    "    payoff2, adversary_payoff, actions, adversary_actions, demand_potential = result.total_payoff()\n",
    "    opponent2_results.append(payoff2)\n",
    "    print('Current payoff for adversary 2: ', payoff2)\n",
    "    \n",
    "    if (round_ == number_rounds - 1):\n",
    "        final_round = round_\n",
    "    \n",
    "plt.plot(errors[0:final_round+1])"
   ]
  },
  {
   "cell_type": "code",
   "execution_count": 8,
   "metadata": {},
   "outputs": [
    {
     "name": "stdout",
     "output_type": "stream",
     "text": [
      "[0.95 0.91 0.9  0.9  0.89 0.93 0.9  0.88 0.92 0.88 0.92 0.89 0.88 0.88\n",
      " 0.89 0.92 0.89 0.88 0.88 0.91 0.88 0.91 0.88 0.91 0.92 0.88 0.91 0.91\n",
      " 0.88 0.88 0.92 0.91 0.91 0.88 0.91 0.91 0.91 0.88 0.88 0.91 0.91 0.88\n",
      " 0.88 0.91 0.91 0.91 0.88 0.88 0.91 0.91 0.91 0.91 0.91 0.87 0.88 0.91\n",
      " 0.88 0.91 0.87 0.88 0.88 0.88 0.88 0.91 0.91 0.91 0.87 0.88 0.88 0.88\n",
      " 0.91 0.87 0.9  0.87 0.9  0.91 0.88 0.87 0.9  0.88 0.9  0.91 0.88 0.9\n",
      " 0.87 0.87 0.9  0.91 0.88 0.87 0.88 0.9  0.9  0.91 0.9  0.87 0.88 0.87\n",
      " 0.9  0.9 ]\n"
     ]
    }
   ],
   "source": [
    "print(errors)"
   ]
  },
  {
   "cell_type": "code",
   "execution_count": 9,
   "metadata": {},
   "outputs": [
    {
     "data": {
      "text/plain": [
       "<matplotlib.legend.Legend at 0x17d422aae20>"
      ]
     },
     "execution_count": 9,
     "metadata": {},
     "output_type": "execute_result"
    },
    {
     "data": {
      "image/png": "[encoded data removed]",
      "text/plain": [
       "<Figure size 432x288 with 1 Axes>"
      ]
     },
     "metadata": {
      "needs_background": "light"
     },
     "output_type": "display_data"
    }
   ],
   "source": [
    "# Below is the second stage of learning- actions are chosen according to an epsilon greedy strategy.\n",
    "episode_counter = (final_round + 1) * number_episodes_per_round\n",
    "episodes_left = number_episodes - episode_counter\n",
    "number_episodes_per_round = 500\n",
    "number_rounds = int(episodes_left / number_episodes_per_round)\n",
    "\n",
    "for round_ in range(number_rounds): \n",
    "    print('Round ', round_, ' of ', number_rounds)\n",
    "    algorithm.epsilon_greedy_learning(number_episodes_per_round, episode_counter)\n",
    "    \n",
    "    adversary_probabilities=[0]*len(AdversaryModes)\n",
    "    adversary_probabilities[10]=1\n",
    "    result = Test(game, Qtable, discount_factor, adversary_probabilities)\n",
    "    payoff1, adversary_payoff, actions, adversary_actions, demand_potential = result.total_payoff()\n",
    "    opponent1_results.append(payoff1)\n",
    "    print('Current payoff for adversary 1: ', payoff1)\n",
    "    \n",
    "    adversary_probabilities=[0]*len(AdversaryModes)\n",
    "    adversary_probabilities[11]=1\n",
    "    result = Test(game, Qtable, discount_factor, adversary_probabilities)\n",
    "    payoff2, adversary_payoff, actions, adversary_actions, demand_potential = result.total_payoff()\n",
    "    opponent2_results.append(payoff2)\n",
    "    print('Current payoff for adversary 2: ', payoff2)\n",
    "    \n",
    "    episode_counter += number_episodes_per_round\n",
    "    \n",
    "plt.plot(opponent1_results)\n",
    "plt.plot(opponent2_results)\n",
    "plt.title(\"Payoff over the rounds\")\n",
    "plt.xlabel(\"Rounds\")\n",
    "plt.ylabel(\"Payoff at the end of each round\")\n",
    "legend = [\"adversary 1\", \"adversary 2\"]\n",
    "plt.legend(legend)"
   ]
  },
  {
   "cell_type": "code",
   "execution_count": 10,
   "metadata": {},
   "outputs": [],
   "source": [
    "Qtable.save(\"Qtable_guess132_guess128\")\n",
    "\n",
    "df1 = pd.DataFrame(opponent1_results)\n",
    "df2 = pd.DataFrame(opponent2_results)\n",
    "\n",
    "writer = pd.ExcelWriter('payoffs.xlsx', engine='xlsxwriter')\n",
    "df1.to_excel(writer, sheet_name='payoff1', index=False)\n",
    "df2.to_excel(writer, sheet_name='payoff2', index=False)\n",
    "writer.save()"
   ]
  },
  {
   "cell_type": "code",
   "execution_count": 11,
   "metadata": {},
   "outputs": [],
   "source": [
    "# We now have the trained agent. We want to test it against each opponent individually, so that\n",
    "# we can compare it against the agent that is just trained against this opponent. "
   ]
  },
  {
   "cell_type": "code",
   "execution_count": 12,
   "metadata": {},
   "outputs": [
    {
     "name": "stdout",
     "output_type": "stream",
     "text": [
      "89207.0\n",
      "75335.0\n",
      "[114 109 131 104  91  95 110 106  89 116  90  95  92  93 112  92  88 115\n",
      "  70  88 107  66  81 112 102]\n",
      "[132 110 105 105 105 105  93  93  93  93  93  93  93  93  93  93  93  93\n",
      "  93  93  93  93  93  93 146]\n",
      "[200. 209. 209. 196. 196. 203. 208. 199. 192. 194. 182. 183. 182. 182.\n",
      " 182. 172. 172. 174. 163. 174. 176. 169. 182. 188. 178.]\n"
     ]
    }
   ],
   "source": [
    "adversary_probabilities=[0]*len(AdversaryModes)\n",
    "# Testing against one type of opponent by changing the * below to be the first number\n",
    "adversary_probabilities[10]=1\n",
    "result = Test(game, Qtable, discount_factor, adversary_probabilities)\n",
    "payoff, adversary_payoff, actions, adversary_actions, demand_potential = result.total_payoff()\n",
    "print(payoff)\n",
    "print(adversary_payoff)\n",
    "print(actions)\n",
    "print(adversary_actions)\n",
    "print(demand_potential)"
   ]
  },
  {
   "cell_type": "code",
   "execution_count": 13,
   "metadata": {},
   "outputs": [
    {
     "name": "stdout",
     "output_type": "stream",
     "text": [
      "59020.0\n",
      "36736.0\n",
      "[114 110 132 104  87  97  95  97  81 127  78 105 102  66  78  98  91  85\n",
      "  81  78  76  74  72  71  22]\n",
      "[125 125 100 100 100 100 100 100 100  69  69  69  69  69  69  69  69  69\n",
      "  69  69  69  69  69  69 193]\n",
      "[200. 205. 212. 196. 194. 200. 201. 203. 204. 213. 184. 179. 161. 144.\n",
      " 145. 140. 125. 114. 106. 100.  95.  91.  88.  86.  85.]\n"
     ]
    }
   ],
   "source": [
    "adversary_probabilities=[0]*len(AdversaryModes)\n",
    "# Testing against one type of opponent by changing the * below to be the first number\n",
    "adversary_probabilities[11]=1\n",
    "result = Test(game, Qtable, discount_factor, adversary_probabilities)\n",
    "payoff, adversary_payoff, actions, adversary_actions, demand_potential = result.total_payoff()\n",
    "print(payoff)\n",
    "print(adversary_payoff)\n",
    "print(actions)\n",
    "print(adversary_actions)\n",
    "print(demand_potential)"
   ]
  },
  {
   "cell_type": "code",
   "execution_count": null,
   "metadata": {},
   "outputs": [],
   "source": []
  }
 ],
 "metadata": {
  "kernelspec": {
   "display_name": "Python 3 (ipykernel)",
   "language": "python",
   "name": "python3"
  },
  "language_info": {
   "codemirror_mode": {
    "name": "ipython",
    "version": 3
   },
   "file_extension": ".py",
   "mimetype": "text/x-python",
   "name": "python",
   "nbconvert_exporter": "python",
   "pygments_lexer": "ipython3",
   "version": "3.9.7"
  }
 },
 "nbformat": 4,
 "nbformat_minor": 4
}
