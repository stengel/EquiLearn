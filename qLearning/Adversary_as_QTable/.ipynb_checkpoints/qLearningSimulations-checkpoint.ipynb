{
 "cells": [
  {
   "cell_type": "code",
   "execution_count": 1,
   "metadata": {},
   "outputs": [],
   "source": [
    "from learningAgent import LearningAlgorithm\n",
    "from environment import Model\n",
    "from Qtable import QTable\n",
    "from test import Test\n",
    "import numpy as np\n",
    "import os"
   ]
  },
  {
   "cell_type": "code",
   "execution_count": 2,
   "metadata": {},
   "outputs": [],
   "source": [
    "np.random.seed(10)"
   ]
  },
  {
   "cell_type": "code",
   "execution_count": 3,
   "metadata": {},
   "outputs": [],
   "source": [
    "total_Demand = 400\n",
    "agent_Cost = 57\n",
    "adv_Cost = 71\n",
    "total_Stages = 25\n",
    "num_Actions = 70\n",
    "num_States = abs(adv_Cost - agent_Cost) + 2 * num_Actions + 1\n",
    "Qtable = QTable(num_States, num_Actions, learning_Rate = [490000,500000])\n",
    "adversary = Qtable.myopicReset()\n",
    "init_State = [total_Demand/2, total_Demand/2]\n",
    "\n",
    "game = Model(total_Demand, [agent_Cost,adv_Cost], total_Stages, init_State, adversary)"
   ]
  },
  {
   "cell_type": "code",
   "execution_count": 4,
   "metadata": {},
   "outputs": [],
   "source": [
    "# Learning rate is given as [numerator,denominator] which gives us a learning rate function of \n",
    "# numerator/(n+demoninator)\n",
    "Qtable = QTable(num_States, num_Actions, learning_Rate = [490000,500000])"
   ]
  },
  {
   "cell_type": "code",
   "execution_count": 5,
   "metadata": {},
   "outputs": [],
   "source": [
    "numberEpisodes = 1000000\n",
    "discountFactor = 0.99"
   ]
  },
  {
   "cell_type": "code",
   "execution_count": 6,
   "metadata": {},
   "outputs": [],
   "source": [
    "algorithm = LearningAlgorithm(game, Qtable, numberEpisodes, discountFactor)"
   ]
  },
  {
   "cell_type": "code",
   "execution_count": 7,
   "metadata": {
    "scrolled": true
   },
   "outputs": [],
   "source": [
    "algorithm.solver()"
   ]
  },
  {
   "cell_type": "code",
   "execution_count": 8,
   "metadata": {},
   "outputs": [],
   "source": [
    "# print(Qtable.Q_table)"
   ]
  },
  {
   "cell_type": "code",
   "execution_count": 9,
   "metadata": {},
   "outputs": [],
   "source": [
    "result = Test(game, Qtable, discountFactor, adversary)"
   ]
  },
  {
   "cell_type": "code",
   "execution_count": 10,
   "metadata": {},
   "outputs": [
    {
     "name": "stdout",
     "output_type": "stream",
     "text": [
      "156578.3661572877\n",
      "[ 81  94 103 100 105 106 113 105 106 113 105 106 113 105 106 113 105 106\n",
      " 113 105 106 113 105 106 113]\n"
     ]
    }
   ],
   "source": [
    "# Returns the optimal payoff and actions according to the Qtable\n",
    "payoff, actions = result.totalPayoff()\n",
    "print(payoff)\n",
    "print(actions)"
   ]
  },
  {
   "cell_type": "code",
   "execution_count": 11,
   "metadata": {},
   "outputs": [],
   "source": [
    "# The percentage error of the Qtable\n",
    "error = result.error()"
   ]
  },
  {
   "cell_type": "code",
   "execution_count": 12,
   "metadata": {},
   "outputs": [
    {
     "data": {
      "text/plain": [
       "0.0007133969659500548"
      ]
     },
     "execution_count": 12,
     "metadata": {},
     "output_type": "execute_result"
    }
   ],
   "source": [
    "error.mean()"
   ]
  },
  {
   "cell_type": "code",
   "execution_count": 13,
   "metadata": {},
   "outputs": [],
   "source": [
    "Qtable.save('round_1_with_cost_57')"
   ]
  },
  {
   "cell_type": "code",
   "execution_count": 14,
   "metadata": {},
   "outputs": [
    {
     "name": "stdout",
     "output_type": "stream",
     "text": [
      "0\n"
     ]
    }
   ],
   "source": [
    "num_rounds = 1\n",
    "payoffs = [0]*num_rounds\n",
    "for i in range(num_rounds):\n",
    "    \n",
    "    if i % 1 == 0:\n",
    "        print(i)\n",
    "    \n",
    "    adversary = Qtable.Q_table\n",
    "    # Swap over players\n",
    "    game = Model(total_Demand, [adv_Cost,agent_Cost], total_Stages, init_State, adversary)\n",
    "    Qtable = QTable(num_States, num_Actions, learning_Rate = [490000,500000])\n",
    "    algorithm = LearningAlgorithm(game, Qtable, numberEpisodes, discountFactor)\n",
    "    algorithm.solver()\n",
    "\n",
    "    adversary = Qtable.Q_table\n",
    "    # Swap back over\n",
    "    game = Model(total_Demand, [agent_Cost,adv_Cost], total_Stages, init_State, adversary)\n",
    "    Qtable = QTable(num_States, num_Actions, learning_Rate = [490000,500000])\n",
    "    algorithm = LearningAlgorithm(game, Qtable, numberEpisodes, discountFactor)\n",
    "    algorithm.solver()\n",
    "    result = Test(game, Qtable, discountFactor, adversary)\n",
    "    payoff, actions = result.totalPayoff()\n",
    "    payoffs[i] = payoff"
   ]
  },
  {
   "cell_type": "code",
   "execution_count": 15,
   "metadata": {},
   "outputs": [
    {
     "data": {
      "image/png": "[encoded data removed]",
      "text/plain": [
       "<Figure size 640x480 with 1 Axes>"
      ]
     },
     "metadata": {},
     "output_type": "display_data"
    }
   ],
   "source": [
    "import matplotlib.pyplot as plt\n",
    "plt.plot(payoffs)\n",
    "plt.show()"
   ]
  },
  {
   "cell_type": "code",
   "execution_count": null,
   "metadata": {},
   "outputs": [],
   "source": []
  }
 ],
 "metadata": {
  "kernelspec": {
   "display_name": "Python 3 (ipykernel)",
   "language": "python",
   "name": "python3"
  },
  "language_info": {
   "codemirror_mode": {
    "name": "ipython",
    "version": 3
   },
   "file_extension": ".py",
   "mimetype": "text/x-python",
   "name": "python",
   "nbconvert_exporter": "python",
   "pygments_lexer": "ipython3",
   "version": "3.9.13"
  }
 },
 "nbformat": 4,
 "nbformat_minor": 4
}
