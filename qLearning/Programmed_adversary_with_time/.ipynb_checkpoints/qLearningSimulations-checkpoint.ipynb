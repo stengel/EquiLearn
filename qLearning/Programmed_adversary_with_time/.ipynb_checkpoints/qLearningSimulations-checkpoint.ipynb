{
 "cells": [
  {
   "cell_type": "code",
   "execution_count": 1,
   "metadata": {},
   "outputs": [],
   "source": [
    "from learningAgent import LearningAlgorithm\n",
    "from environment import Model, AdversaryModes\n",
    "from Qtable import QTable\n",
    "from test import Test\n",
    "import numpy as np"
   ]
  },
  {
   "cell_type": "code",
   "execution_count": 2,
   "metadata": {},
   "outputs": [],
   "source": [
    "np.random.seed(10)"
   ]
  },
  {
   "cell_type": "code",
   "execution_count": 3,
   "metadata": {},
   "outputs": [],
   "source": [
    "total_Demand = 400\n",
    "agent_Cost = 57\n",
    "adv_Cost = 71 \n",
    "tuple_Costs = [57,71]\n",
    "total_Stages = 25\n",
    "init_State = [total_Demand/2, total_Demand/2]\n",
    "adversaryProbs=[0]*len(AdversaryModes)\n",
    "adversaryProbs[0]=1 # We only train against strategies that do not take into account the \n",
    "# previous actions (myopic or constant strategies).\n",
    "\n",
    "game = Model(total_Demand, [agent_Cost,adv_Cost], total_Stages, adversaryProbs)"
   ]
  },
  {
   "cell_type": "code",
   "execution_count": 4,
   "metadata": {},
   "outputs": [],
   "source": [
    "num_Actions = 50\n",
    "num_States = abs(adv_Cost - agent_Cost) + 2 * num_Actions + 2"
   ]
  },
  {
   "cell_type": "code",
   "execution_count": 5,
   "metadata": {},
   "outputs": [],
   "source": [
    "# Learning rate is given as [numerator,denominator] which gives us a learning rate function of \n",
    "# numerator/(n+demoninator)\n",
    "Qtable = QTable(num_States, num_Actions, total_Stages , learning_Rate = [490000,500000])"
   ]
  },
  {
   "cell_type": "code",
   "execution_count": 6,
   "metadata": {},
   "outputs": [],
   "source": [
    "numberEpisodes = 50_000_000\n",
    "discountFactor = 0.9999"
   ]
  },
  {
   "cell_type": "code",
   "execution_count": 7,
   "metadata": {},
   "outputs": [],
   "source": [
    "algorithm = LearningAlgorithm(game, Qtable, numberEpisodes, discountFactor)"
   ]
  },
  {
   "cell_type": "code",
   "execution_count": 8,
   "metadata": {
    "scrolled": true
   },
   "outputs": [],
   "source": [
    "algorithm.solver()"
   ]
  },
  {
   "cell_type": "code",
   "execution_count": 9,
   "metadata": {},
   "outputs": [],
   "source": [
    "# print(Qtable.Q_table)"
   ]
  },
  {
   "cell_type": "code",
   "execution_count": 10,
   "metadata": {},
   "outputs": [],
   "source": [
    "# Qtable.Q_table.mean()"
   ]
  },
  {
   "cell_type": "code",
   "execution_count": 11,
   "metadata": {},
   "outputs": [],
   "source": [
    "adversaryProbs=[0]*len(AdversaryModes)\n",
    "adversaryProbs[0]=1 # We can test the Q-Table against any strategy. "
   ]
  },
  {
   "cell_type": "code",
   "execution_count": 12,
   "metadata": {},
   "outputs": [],
   "source": [
    "result = Test(game, Qtable, discountFactor, adversaryProbs)"
   ]
  },
  {
   "cell_type": "code",
   "execution_count": 13,
   "metadata": {},
   "outputs": [],
   "source": [
    "#import numpy as np\n",
    "#import matplotlib.pyplot as plt"
   ]
  },
  {
   "cell_type": "code",
   "execution_count": 14,
   "metadata": {},
   "outputs": [],
   "source": [
    "# The following plots what the Q-Table says is the best action in each state\n",
    "#states, bestResponses = result.bestResponses()\n",
    "#plt.scatter(states,bestResponses)\n",
    "#plt.show()"
   ]
  },
  {
   "cell_type": "code",
   "execution_count": 15,
   "metadata": {},
   "outputs": [
    {
     "name": "stdout",
     "output_type": "stream",
     "text": [
      "180214.8627812602\n",
      "41262.33031321998\n",
      "[ 89  92 100 104 110 110 106 109 107 106 108 108 108 108 108 108 108 108\n",
      " 108 108 112 113 118 130 147]\n",
      "[135 124 116 112 110 110 110 109 109 108 108 108 108 108 108 108 108 108\n",
      " 108 108 108 109 110 112 116]\n",
      "[200. 223. 239. 247. 251. 251. 251. 253. 253. 254. 255. 255. 255. 255.\n",
      " 255. 255. 255. 255. 255. 255. 255. 253. 251. 247. 238.]\n"
     ]
    }
   ],
   "source": [
    "# Returns the optimal payoff and actions according to the Qtable\n",
    "payoff, advPayoff, actions, advActions, demandPotential = result.totalPayoff()\n",
    "print(payoff)\n",
    "print(advPayoff)\n",
    "print(actions)\n",
    "print(advActions)\n",
    "print(demandPotential)"
   ]
  },
  {
   "cell_type": "code",
   "execution_count": 16,
   "metadata": {},
   "outputs": [],
   "source": [
    "# The percentage error of the Qtable. This has to be measured against the same opponent that \n",
    "# it was trained against, as this is a measure of how 'complete' the training is.\n",
    "error = result.error()"
   ]
  },
  {
   "cell_type": "code",
   "execution_count": 17,
   "metadata": {},
   "outputs": [
    {
     "data": {
      "text/plain": [
       "0.0006385809554732589"
      ]
     },
     "execution_count": 17,
     "metadata": {},
     "output_type": "execute_result"
    }
   ],
   "source": [
    "error.mean()"
   ]
  },
  {
   "cell_type": "code",
   "execution_count": 18,
   "metadata": {},
   "outputs": [],
   "source": [
    "# The following calculates the payoff that the Q-Table gives against the different opponenets. \n",
    "# It may reach a state in which the Q-Table was not trained. This will cause an error saying \n",
    "# either 'max action reached' or 'min action reached'.\n",
    "# for i in range(len(AdversaryModes)):\n",
    "#     print(AdversaryModes(i))\n",
    "#     adversaryProbs=[0]*len(AdversaryModes)\n",
    "#     adversaryProbs[i]=1\n",
    "#     result = Test(game, Qtable, discountFactor, adversaryProbs)\n",
    "#     payoff, advPayoff, actions, advActions, demandPotential = result.totalPayoff()\n",
    "#     print(payoff)\n"
   ]
  },
  {
   "cell_type": "code",
   "execution_count": null,
   "metadata": {},
   "outputs": [],
   "source": []
  }
 ],
 "metadata": {
  "kernelspec": {
   "display_name": "Python 3 (ipykernel)",
   "language": "python",
   "name": "python3"
  },
  "language_info": {
   "codemirror_mode": {
    "name": "ipython",
    "version": 3
   },
   "file_extension": ".py",
   "mimetype": "text/x-python",
   "name": "python",
   "nbconvert_exporter": "python",
   "pygments_lexer": "ipython3",
   "version": "3.9.13"
  }
 },
 "nbformat": 4,
 "nbformat_minor": 4
}
