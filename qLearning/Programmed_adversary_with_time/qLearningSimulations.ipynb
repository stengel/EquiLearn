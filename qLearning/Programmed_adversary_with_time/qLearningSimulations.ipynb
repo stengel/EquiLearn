{
 "cells": [
  {
   "cell_type": "code",
   "execution_count": 1,
   "metadata": {},
   "outputs": [],
   "source": [
    "from learningAgent import LearningAlgorithm\n",
    "from environment import Model, AdversaryModes\n",
    "from Qtable import QTable\n",
    "from test import Test\n",
    "import numpy as np"
   ]
  },
  {
   "cell_type": "code",
   "execution_count": 2,
   "metadata": {},
   "outputs": [],
   "source": [
    "np.random.seed(10)"
   ]
  },
  {
   "cell_type": "code",
   "execution_count": 3,
   "metadata": {},
   "outputs": [],
   "source": [
    "total_Demand = 400\n",
    "agent_Cost = 57\n",
    "adv_Cost = 71 \n",
    "tuple_Costs = [57,71]\n",
    "total_Stages = 7\n",
    "init_State = [total_Demand/2, total_Demand/2]\n",
    "adversaryProbs=[0]*len(AdversaryModes)\n",
    "adversaryProbs[0]=1 # We only train against strategies that do not take into account the \n",
    "# previous actions (myopic or constant strategies).\n",
    "\n",
    "game = Model(total_Demand, [agent_Cost,adv_Cost], total_Stages, adversaryProbs)"
   ]
  },
  {
   "cell_type": "code",
   "execution_count": 4,
   "metadata": {},
   "outputs": [],
   "source": [
    "num_Actions = 6\n",
    "num_States = abs(adv_Cost - agent_Cost) + 2 * num_Actions + 2"
   ]
  },
  {
   "cell_type": "code",
   "execution_count": 5,
   "metadata": {},
   "outputs": [],
   "source": [
    "# Learning rate is given as [numerator,denominator] which gives us a learning rate function of \n",
    "# numerator/(n+demoninator)\n",
    "Qtable = QTable(num_States, num_Actions, total_Stages , learning_Rate = [490000,500000])"
   ]
  },
  {
   "cell_type": "code",
   "execution_count": 6,
   "metadata": {},
   "outputs": [],
   "source": [
    "numberEpisodes = 200_000\n",
    "discountFactor = 0.99"
   ]
  },
  {
   "cell_type": "code",
   "execution_count": 7,
   "metadata": {},
   "outputs": [],
   "source": [
    "algorithm = LearningAlgorithm(game, Qtable, numberEpisodes, discountFactor)"
   ]
  },
  {
   "cell_type": "code",
   "execution_count": 8,
   "metadata": {
    "scrolled": true
   },
   "outputs": [],
   "source": [
    "algorithm.solver()"
   ]
  },
  {
   "cell_type": "code",
   "execution_count": 9,
   "metadata": {},
   "outputs": [
    {
     "name": "stdout",
     "output_type": "stream",
     "text": [
      "[[[367.56 311.89 255.79 ... 144.72  91.21  41.3 ]\n",
      "  [366.81 311.15 255.05 ... 143.98  90.6   41.4 ]\n",
      "  [366.89 311.23 255.13 ... 144.06  90.68  41.48]\n",
      "  [365.54 309.87 253.77 ... 142.84  90.05  41.54]\n",
      "  [365.58 309.91 253.81 ... 142.88  90.09  41.58]\n",
      "  [364.77 309.1  253.   ... 142.07  89.42  41.6 ]]\n",
      "\n",
      " [[368.26 312.59 256.49 ... 145.42  91.91  42.  ]\n",
      "  [368.35 312.68 256.58 ... 145.51  92.    42.09]\n",
      "  [367.57 311.91 255.81 ... 144.74  91.36  42.16]\n",
      "  [367.62 311.96 255.86 ... 144.79  91.41  42.21]\n",
      "  [366.24 310.57 254.47 ... 143.54  90.75  42.24]\n",
      "  [366.25 310.58 254.48 ... 143.55  90.76  42.25]]\n",
      "\n",
      " [[370.88 315.21 259.12 ... 147.31  93.21  42.6 ]\n",
      "  [368.96 313.29 257.19 ... 146.12  92.61  42.7 ]\n",
      "  [369.04 313.37 257.27 ... 146.2   92.69  42.78]\n",
      "  [368.25 312.59 256.49 ... 145.42  92.04  42.84]\n",
      "  [368.29 312.63 256.53 ... 145.46  92.08  42.88]\n",
      "  [366.9  311.23 255.13 ... 144.2   91.41  42.9 ]]\n",
      "\n",
      " ...\n",
      "\n",
      " [[401.76 346.09 289.86 ... 175.69 117.74  59.04]\n",
      "  [401.85 346.18 289.95 ... 175.78 117.83  59.13]\n",
      "  [401.02 345.35 289.12 ... 174.95 117.13  59.2 ]\n",
      "  [401.07 345.4  289.17 ... 175.   117.18  59.25]\n",
      "  [399.59 343.92 287.69 ... 173.66 116.46  59.28]\n",
      "  [399.6  343.93 287.7  ... 173.67 116.47  59.29]]\n",
      "\n",
      " [[406.26 350.   293.17 ... 177.79 119.22  59.76]\n",
      "  [402.58 346.91 290.68 ... 176.51 118.56  59.86]\n",
      "  [402.66 346.99 290.76 ... 176.59 118.64  59.94]\n",
      "  [401.82 346.15 289.92 ... 175.75 117.93  60.  ]\n",
      "  [401.86 346.19 289.96 ... 175.79 117.97  60.04]\n",
      "  [400.37 344.7  288.47 ... 174.44 117.24  60.06]]\n",
      "\n",
      " [[407.09 350.83 294.   ... 178.62 120.05  60.59]\n",
      "  [407.18 350.92 294.09 ... 178.71 120.14  60.68]\n",
      "  [403.47 347.8  291.57 ... 177.4  119.45  60.75]\n",
      "  [403.52 347.85 291.62 ... 177.45 119.5   60.8 ]\n",
      "  [402.65 346.98 290.75 ... 176.58 118.76  60.83]\n",
      "  [402.66 346.99 290.76 ... 176.59 118.77  60.84]]]\n"
     ]
    }
   ],
   "source": [
    "print(Qtable.Q_table)"
   ]
  },
  {
   "cell_type": "code",
   "execution_count": 10,
   "metadata": {},
   "outputs": [],
   "source": [
    "# Qtable.Q_table.mean()"
   ]
  },
  {
   "cell_type": "code",
   "execution_count": 11,
   "metadata": {},
   "outputs": [],
   "source": [
    "adversaryProbs=[0]*len(AdversaryModes)\n",
    "adversaryProbs[0]=1 # We can test the Q-Table against any strategy. "
   ]
  },
  {
   "cell_type": "code",
   "execution_count": 12,
   "metadata": {},
   "outputs": [],
   "source": [
    "result = Test(game, Qtable, discountFactor, adversaryProbs)"
   ]
  },
  {
   "cell_type": "code",
   "execution_count": 13,
   "metadata": {},
   "outputs": [],
   "source": [
    "#import numpy as np\n",
    "#import matplotlib.pyplot as plt"
   ]
  },
  {
   "cell_type": "code",
   "execution_count": 14,
   "metadata": {},
   "outputs": [],
   "source": [
    "# The following plots what the Q-Table says is the best action in each state\n",
    "#states, bestResponses = result.bestResponses()\n",
    "#plt.scatter(states,bestResponses)\n",
    "#plt.show()"
   ]
  },
  {
   "cell_type": "code",
   "execution_count": 15,
   "metadata": {},
   "outputs": [],
   "source": [
    "# Returns the optimal payoff and actions according to the Qtable\n",
    "# payoff, advPayoff, actions, advActions, demandPotential = result.totalPayoff()\n",
    "# print(payoff)\n",
    "# print(advPayoff)\n",
    "# print(actions)\n",
    "# print(advActions)\n",
    "# print(demandPotential)"
   ]
  },
  {
   "cell_type": "code",
   "execution_count": 16,
   "metadata": {},
   "outputs": [],
   "source": [
    "# The percentage error of the Qtable. This has to be measured against the same opponent that \n",
    "# it was trained against, as this is a measure of how 'complete' the training is.\n",
    "error = result.error()"
   ]
  },
  {
   "cell_type": "code",
   "execution_count": 17,
   "metadata": {},
   "outputs": [
    {
     "data": {
      "text/plain": [
       "-3.4578751899138774e-18"
      ]
     },
     "execution_count": 17,
     "metadata": {},
     "output_type": "execute_result"
    }
   ],
   "source": [
    "error.mean()"
   ]
  },
  {
   "cell_type": "code",
   "execution_count": 18,
   "metadata": {},
   "outputs": [],
   "source": [
    "# The following calculates the payoff that the Q-Table gives against the different opponenets. \n",
    "# It may reach a state in which the Q-Table was not trained. This will cause an error saying \n",
    "# either 'max action reached' or 'min action reached'.\n",
    "# for i in range(len(AdversaryModes)):\n",
    "#     print(AdversaryModes(i))\n",
    "#     adversaryProbs=[0]*len(AdversaryModes)\n",
    "#     adversaryProbs[i]=1\n",
    "#     result = Test(game, Qtable, discountFactor, adversaryProbs)\n",
    "#     payoff, advPayoff, actions, advActions, demandPotential = result.totalPayoff()\n",
    "#     print(payoff)\n"
   ]
  },
  {
   "cell_type": "code",
   "execution_count": null,
   "metadata": {},
   "outputs": [],
   "source": []
  }
 ],
 "metadata": {
  "kernelspec": {
   "display_name": "Python 3 (ipykernel)",
   "language": "python",
   "name": "python3"
  },
  "language_info": {
   "codemirror_mode": {
    "name": "ipython",
    "version": 3
   },
   "file_extension": ".py",
   "mimetype": "text/x-python",
   "name": "python",
   "nbconvert_exporter": "python",
   "pygments_lexer": "ipython3",
   "version": "3.9.13"
  }
 },
 "nbformat": 4,
 "nbformat_minor": 4
}
