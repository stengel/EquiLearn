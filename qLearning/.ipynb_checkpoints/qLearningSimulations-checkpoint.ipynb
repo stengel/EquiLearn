{
 "cells": [
  {
   "cell_type": "code",
   "execution_count": 1,
   "metadata": {},
   "outputs": [],
   "source": [
    "from learningAgent import LearningAlgorithm\n",
    "from environment import Model, AdversaryModes\n",
    "import numpy as np"
   ]
  },
  {
   "cell_type": "code",
   "execution_count": 2,
   "metadata": {},
   "outputs": [],
   "source": [
    "np.random.seed(10)"
   ]
  },
  {
   "cell_type": "code",
   "execution_count": 3,
   "metadata": {},
   "outputs": [],
   "source": [
    "total_Demand = 400\n",
    "tuple_Costs = [57,71]\n",
    "total_Stages = 25\n",
    "init_State = [total_Demand/2, total_Demand/2]\n",
    "adversary_Mode = AdversaryModes.myopic\n",
    "\n",
    "game = Model(total_Demand, tuple_Costs, total_Stages, init_State, adversary_Mode)"
   ]
  },
  {
   "cell_type": "code",
   "execution_count": 4,
   "metadata": {},
   "outputs": [],
   "source": [
    "agent_Cost = tuple_Costs[0]\n",
    "adv_Cost = tuple_Costs[1]\n",
    "num_Actions = 20\n",
    "num_States = abs(adv_Cost - agent_Cost) + 2 * num_Actions + 2"
   ]
  },
  {
   "cell_type": "code",
   "execution_count": 5,
   "metadata": {},
   "outputs": [],
   "source": [
    "Qtable = np.zeros((num_States, num_Actions))"
   ]
  },
  {
   "cell_type": "code",
   "execution_count": 6,
   "metadata": {},
   "outputs": [],
   "source": [
    "algorithm = LearningAlgorithm(game, Qtable, numberEpisodes=10000, discountFactor =0.99)"
   ]
  },
  {
   "cell_type": "code",
   "execution_count": 7,
   "metadata": {
    "scrolled": true
   },
   "outputs": [],
   "source": [
    "algorithm.solver()"
   ]
  },
  {
   "cell_type": "code",
   "execution_count": 8,
   "metadata": {},
   "outputs": [
    {
     "name": "stdout",
     "output_type": "stream",
     "text": [
      "[[2298.58 2173.82 2091.98 ... 2263.48 2406.9  2223.33]\n",
      " [2258.13 2260.23 2206.61 ... 2368.14 2102.3  2372.94]\n",
      " [2137.68 2214.11 2104.9  ... 2146.42 2249.9  2362.45]\n",
      " ...\n",
      " [1656.49 2291.25 1953.98 ... 2073.98 2187.13 1882.5 ]\n",
      " [2378.36 2191.38 2278.08 ... 2416.62 2227.81 2263.92]\n",
      " [2225.13 2457.32 1669.57 ... 2164.3  2101.99 2199.06]]\n"
     ]
    }
   ],
   "source": [
    "print(Qtable)"
   ]
  }
 ],
 "metadata": {
  "kernelspec": {
   "display_name": "Python 3 (ipykernel)",
   "language": "python",
   "name": "python3"
  },
  "language_info": {
   "codemirror_mode": {
    "name": "ipython",
    "version": 3
   },
   "file_extension": ".py",
   "mimetype": "text/x-python",
   "name": "python",
   "nbconvert_exporter": "python",
   "pygments_lexer": "ipython3",
   "version": "3.9.13"
  }
 },
 "nbformat": 4,
 "nbformat_minor": 4
}
