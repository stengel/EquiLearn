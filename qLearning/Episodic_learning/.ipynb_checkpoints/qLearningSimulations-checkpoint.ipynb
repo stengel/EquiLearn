{
 "cells": [
  {
   "cell_type": "code",
   "execution_count": 1,
   "metadata": {},
   "outputs": [],
   "source": [
    "from learningAgent import LearningAlgorithm\n",
    "from environment import Model, AdversaryModes\n",
    "from Qtable import QTable\n",
    "from test import Test\n",
    "import numpy as np"
   ]
  },
  {
   "cell_type": "code",
   "execution_count": 2,
   "metadata": {},
   "outputs": [],
   "source": [
    "np.random.seed(10)"
   ]
  },
  {
   "cell_type": "code",
   "execution_count": 3,
   "metadata": {},
   "outputs": [],
   "source": [
    "total_demand = 400\n",
    "agent_cost = 57\n",
    "adversary_cost = 71 \n",
    "costs = [agent_cost,adversary_cost]\n",
    "total_stages = 25\n",
    "initial_state = [total_demand/2, total_demand/2]\n",
    "adversary_probabilities=[0]*len(AdversaryModes)\n",
    "adversary_probabilities[10]=1 \n",
    "game = Model(total_demand, costs, total_stages, adversary_probabilities)"
   ]
  },
  {
   "cell_type": "code",
   "execution_count": 4,
   "metadata": {},
   "outputs": [],
   "source": [
    "number_actions = 50\n",
    "number_demands = total_demand + 1"
   ]
  },
  {
   "cell_type": "code",
   "execution_count": 5,
   "metadata": {},
   "outputs": [],
   "source": [
    "# Learning rate is given as [numerator,denominator] which gives us a learning rate function of \n",
    "# numerator/(n+demoninator)\n",
    "Qtable = QTable(number_demands, number_actions, total_stages , learning_rate = [1000000,1000000])"
   ]
  },
  {
   "cell_type": "code",
   "execution_count": 6,
   "metadata": {},
   "outputs": [],
   "source": [
    "number_episodes = 20_000_000\n",
    "discount_factor = 1"
   ]
  },
  {
   "cell_type": "code",
   "execution_count": 7,
   "metadata": {},
   "outputs": [],
   "source": [
    "algorithm = LearningAlgorithm(game, Qtable, number_episodes, discount_factor)"
   ]
  },
  {
   "cell_type": "code",
   "execution_count": 8,
   "metadata": {
    "scrolled": true
   },
   "outputs": [
    {
     "name": "stdout",
     "output_type": "stream",
     "text": [
      "0\n",
      "113343\n",
      "115339\n",
      "120309\n",
      "121468\n",
      "124003\n",
      "125564\n",
      "250000\n",
      "500000\n",
      "750000\n",
      "1000000\n",
      "1250000\n",
      "1500000\n",
      "1750000\n",
      "2000000\n",
      "2250000\n",
      "2500000\n",
      "2750000\n",
      "3000000\n",
      "3250000\n",
      "3500000\n",
      "3750000\n",
      "4000000\n",
      "4250000\n",
      "4500000\n",
      "4750000\n",
      "5000000\n",
      "5250000\n",
      "5500000\n",
      "5750000\n",
      "6000000\n",
      "6250000\n",
      "6500000\n",
      "6750000\n",
      "7000000\n",
      "7250000\n",
      "7500000\n",
      "7750000\n",
      "8000000\n",
      "8250000\n",
      "8500000\n",
      "8750000\n",
      "9000000\n",
      "9250000\n",
      "9500000\n",
      "9750000\n",
      "10000000\n",
      "10250000\n",
      "10500000\n",
      "10750000\n",
      "11000000\n",
      "11250000\n",
      "11500000\n",
      "11750000\n",
      "12000000\n",
      "12250000\n",
      "12500000\n",
      "12750000\n",
      "13000000\n",
      "13250000\n",
      "13500000\n",
      "13750000\n",
      "14000000\n",
      "14250000\n",
      "14500000\n",
      "14750000\n",
      "15000000\n",
      "15250000\n",
      "15500000\n",
      "15750000\n",
      "16000000\n",
      "16250000\n",
      "16500000\n",
      "16750000\n",
      "17000000\n",
      "17250000\n",
      "17500000\n",
      "17750000\n",
      "18000000\n",
      "18250000\n",
      "18500000\n",
      "18750000\n",
      "19000000\n",
      "19250000\n",
      "19500000\n",
      "19750000\n"
     ]
    }
   ],
   "source": [
    "algorithm.solver()"
   ]
  },
  {
   "cell_type": "code",
   "execution_count": 17,
   "metadata": {},
   "outputs": [
    {
     "data": {
      "text/plain": [
       "array([108095.05, 108192.67, 108633.56, 108727.73, 108963.25, 109053.14,\n",
       "       109496.51, 109582.56, 110098.32, 110180.11, 110880.8 , 110959.78,\n",
       "       113413.03, 113487.45, 113706.34, 113776.33, 114005.3 , 114071.45,\n",
       "       114259.2 , 114321.54, 114524.43, 114584.35, 114738.69, 114792.53,\n",
       "       114918.66, 114968.5 , 115130.12, 115180.07, 115291.98, 115334.21,\n",
       "       115448.83, 115486.97, 115579.82, 115615.23, 115674.22, 115704.44,\n",
       "       115772.47, 115798.18, 116126.49, 116146.8 , 116074.55, 116090.76,\n",
       "       116006.38, 116021.58, 115944.71, 115954.39, 115863.16, 115869.11,\n",
       "       115785.82, 115787.28])"
      ]
     },
     "execution_count": 17,
     "metadata": {},
     "output_type": "execute_result"
    }
   ],
   "source": [
    "Qtable.Q_table[200, :, 0]"
   ]
  },
  {
   "cell_type": "code",
   "execution_count": 23,
   "metadata": {},
   "outputs": [
    {
     "data": {
      "text/plain": [
       "0.23619551122194513"
      ]
     },
     "execution_count": 23,
     "metadata": {},
     "output_type": "execute_result"
    }
   ],
   "source": [
    "np.count_nonzero(Qtable.Q_table) / (number_actions * number_demands * total_stages)"
   ]
  },
  {
   "cell_type": "code",
   "execution_count": 10,
   "metadata": {},
   "outputs": [],
   "source": [
    "adversary_probabilities=[0]*len(AdversaryModes)\n",
    "adversary_probabilities[10]=1 # We can test the Q-Table against any strategy. "
   ]
  },
  {
   "cell_type": "code",
   "execution_count": 11,
   "metadata": {},
   "outputs": [],
   "source": [
    "result = Test(game, Qtable, discount_factor, adversary_probabilities)"
   ]
  },
  {
   "cell_type": "code",
   "execution_count": 12,
   "metadata": {},
   "outputs": [],
   "source": [
    "import numpy as np\n",
    "import matplotlib.pyplot as plt"
   ]
  },
  {
   "cell_type": "code",
   "execution_count": 13,
   "metadata": {},
   "outputs": [
    {
     "name": "stdout",
     "output_type": "stream",
     "text": [
      "118943.0\n",
      "73600.0\n",
      "[118 130 110 105 105 101 107  99  99  99 102  99 104  96 105 100 101 101\n",
      " 100  98 101 105  95 115 128]\n",
      "[132 132 125  94 101 101 101 101 101 101 101 101 101 101 101 101 101 101\n",
      " 101 101 101 101 101 101 135]\n",
      "[200. 207. 208. 215. 209. 207. 207. 204. 205. 206. 207. 206. 207. 205.\n",
      " 207. 205. 205. 205. 205. 205. 206. 206. 204. 207. 200.]\n"
     ]
    }
   ],
   "source": [
    "# Returns the optimal payoff and actions according to the Qtable\n",
    "payoff, adversary_payoff, actions, adversary_actions, demand_potential = result.total_payoff()\n",
    "print(payoff)\n",
    "print(adversary_payoff)\n",
    "print(actions)\n",
    "print(adversary_actions)\n",
    "print(demand_potential)"
   ]
  },
  {
   "cell_type": "code",
   "execution_count": 16,
   "metadata": {},
   "outputs": [
    {
     "name": "stdout",
     "output_type": "stream",
     "text": [
      "Div by zero error\n",
      "Div by zero error\n",
      "Div by zero error\n",
      "Div by zero error\n",
      "Div by zero error\n",
      "Div by zero error\n",
      "Div by zero error\n",
      "Div by zero error\n",
      "Div by zero error\n",
      "Div by zero error\n",
      "Div by zero error\n",
      "Div by zero error\n",
      "Div by zero error\n",
      "Div by zero error\n",
      "Div by zero error\n",
      "Div by zero error\n",
      "Div by zero error\n",
      "Div by zero error\n",
      "Div by zero error\n",
      "Div by zero error\n",
      "Div by zero error\n",
      "Div by zero error\n",
      "Div by zero error\n",
      "Div by zero error\n",
      "Div by zero error\n",
      "Div by zero error\n",
      "Div by zero error\n",
      "Div by zero error\n",
      "Div by zero error\n",
      "Div by zero error\n",
      "Div by zero error\n",
      "Div by zero error\n",
      "Div by zero error\n",
      "Div by zero error\n",
      "Div by zero error\n",
      "Div by zero error\n",
      "Div by zero error\n",
      "Div by zero error\n",
      "Div by zero error\n",
      "Div by zero error\n",
      "Div by zero error\n",
      "Div by zero error\n",
      "Div by zero error\n",
      "Div by zero error\n",
      "Div by zero error\n",
      "Div by zero error\n",
      "Div by zero error\n",
      "Div by zero error\n",
      "Div by zero error\n",
      "Div by zero error\n",
      "Div by zero error\n",
      "Div by zero error\n",
      "Div by zero error\n",
      "Div by zero error\n",
      "Div by zero error\n",
      "Div by zero error\n",
      "Div by zero error\n",
      "Div by zero error\n",
      "Div by zero error\n",
      "Div by zero error\n",
      "Div by zero error\n",
      "Div by zero error\n"
     ]
    },
    {
     "data": {
      "text/plain": [
       "-0.1665207586460453"
      ]
     },
     "execution_count": 16,
     "metadata": {},
     "output_type": "execute_result"
    }
   ],
   "source": [
    "# The percentage error of the Qtable. This has to be measured against the same opponent that \n",
    "# it was trained against, as this is a measure of how 'complete' the training is.\n",
    "result.error(10000)"
   ]
  },
  {
   "cell_type": "code",
   "execution_count": 15,
   "metadata": {},
   "outputs": [],
   "source": [
    "# The following calculates the payoff that the Q-Table gives against the different opponenets. \n",
    "# It may reach a state in which the Q-Table was not trained. This will cause an error saying \n",
    "# either 'max demand reached' or 'min demand reached'.\n",
    "# for i in range(len(AdversaryModes)):\n",
    "#     print(AdversaryModes(i))\n",
    "#     adversaryProbs=[0]*len(AdversaryModes)\n",
    "#     adversaryProbs[i]=1\n",
    "#     result = Test(game, Qtable, discountFactor, adversaryProbs)\n",
    "#     payoff, advPayoff, actions, advActions, demandPotential = result.totalPayoff()\n",
    "#     print(payoff)\n"
   ]
  },
  {
   "cell_type": "code",
   "execution_count": null,
   "metadata": {},
   "outputs": [],
   "source": []
  }
 ],
 "metadata": {
  "kernelspec": {
   "display_name": "Python 3 (ipykernel)",
   "language": "python",
   "name": "python3"
  },
  "language_info": {
   "codemirror_mode": {
    "name": "ipython",
    "version": 3
   },
   "file_extension": ".py",
   "mimetype": "text/x-python",
   "name": "python",
   "nbconvert_exporter": "python",
   "pygments_lexer": "ipython3",
   "version": "3.9.13"
  }
 },
 "nbformat": 4,
 "nbformat_minor": 4
}
