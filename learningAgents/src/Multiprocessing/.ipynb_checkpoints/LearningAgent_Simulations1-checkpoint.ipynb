{
 "cells": [
  {
   "cell_type": "code",
   "execution_count": 1,
   "metadata": {},
   "outputs": [],
   "source": [
    "from learningAgents import ReinforceAlgorithm\n",
    "from environmentModel import Model, AdversaryModes\n",
    "from NeuralNetwork import NeuralNetwork\n",
    "import torch\n",
    "import torch.nn as nn\n",
    "from torch.distributions import Categorical\n",
    "import multiprocess as mp\n",
    "import pandas as pd\n",
    "import numpy as np"
   ]
  },
  {
   "cell_type": "code",
   "execution_count": 2,
   "metadata": {},
   "outputs": [],
   "source": [
    "adversaryProbs=torch.zeros(len(AdversaryModes))\n",
    "adversaryProbs[0]=1\n",
    "game = Model(totalDemand = 400, tupleCosts = (57, 71),\n",
    "              totalStages = 25, adversaryProbs=adversaryProbs)"
   ]
  },
  {
   "cell_type": "code",
   "execution_count": 3,
   "metadata": {},
   "outputs": [],
   "source": [
    "neuralNet=NeuralNetwork(lr = 0.001, num_input= 2, num_actions=50, nn_dim = 150)"
   ]
  },
  {
   "cell_type": "code",
   "execution_count": 4,
   "metadata": {},
   "outputs": [],
   "source": [
    "def run_experiment(numberBatches, numberEpiPerBatch, discountFactor, creditFactor):\n",
    "    algorithm = ReinforceAlgorithm(game, neuralNet, numberBatches, numberEpiPerBatch, discountFactor, creditFactor, 1)\n",
    "    returns, actions, payoff, convergence, bestActions, bestPayoff = algorithm.solver()\n",
    "    learning = np.concatenate(returns)\n",
    "    return learning, actions, payoff, convergence, bestActions, bestPayoff "
   ]
  },
  {
   "cell_type": "code",
   "execution_count": 5,
   "metadata": {},
   "outputs": [],
   "source": [
    "# learning, actions, payoff, convergence, bestActions, bestPayoff = run_experiment(4,10,1,0.8)"
   ]
  },
  {
   "cell_type": "code",
   "execution_count": 6,
   "metadata": {},
   "outputs": [],
   "source": [
    "def run_experiment_cf(creditFactor):\n",
    "    algorithm = ReinforceAlgorithm(game, neuralNet, 4, 10, 1, creditFactor, 1)\n",
    "    returns, actions, payoff, convergence, bestActions, bestPayoff = algorithm.solver()\n",
    "    learning = np.concatenate(returns)\n",
    "    return learning, actions, payoff, convergence, bestActions, bestPayoff "
   ]
  },
  {
   "cell_type": "code",
   "execution_count": 7,
   "metadata": {},
   "outputs": [],
   "source": [
    "def driver_func():\n",
    "    PROCESSES = 4\n",
    "    ctx = mp.get_context('spawn')\n",
    "    with ctx.Pool(PROCESSES) as pool:\n",
    "        params = [(0.2, ), (0.4, ), (0.6, ), (0.8, )]\n",
    "        results = [pool.apply_async(run_experiment_cf, p) for p in params]\n",
    "        for r in results:\n",
    "            r.get()\n",
    "\n",
    "#         for r in results:\n",
    "#             print('\\t', r.get())"
   ]
  },
  {
   "cell_type": "code",
   "execution_count": 8,
   "metadata": {},
   "outputs": [
    {
     "name": "stdout",
     "output_type": "stream",
     "text": [
      "[<multiprocess.pool.ApplyResult object at 0x7fc2c4b50a00>, <multiprocess.pool.ApplyResult object at 0x7fc2c4b50a30>, <multiprocess.pool.ApplyResult object at 0x7fc2c4b50be0>, <multiprocess.pool.ApplyResult object at 0x7fc2c4b50cd0>]\n"
     ]
    }
   ],
   "source": [
    "driver_func()"
   ]
  },
  {
   "cell_type": "code",
   "execution_count": 9,
   "metadata": {},
   "outputs": [],
   "source": [
    "# if __name__ == '__main__':\n",
    "#     pool = mp.Pool(1)\n",
    "#     squared = pool.map(run_experiment, [[1,1,0.1*i,1] for i in range(10)])"
   ]
  },
  {
   "cell_type": "code",
   "execution_count": null,
   "metadata": {},
   "outputs": [],
   "source": []
  },
  {
   "cell_type": "code",
   "execution_count": 10,
   "metadata": {},
   "outputs": [],
   "source": [
    "# algorithm = ReinforceAlgorithm(game, neuralNet, numberBatches=1, numberEpiPerBatch=1, discountFactor =1, creditFactor = 0.6, numberIterations = 1)"
   ]
  },
  {
   "cell_type": "code",
   "execution_count": 11,
   "metadata": {
    "scrolled": false
   },
   "outputs": [],
   "source": [
    "# algorithm.solver()"
   ]
  },
  {
   "cell_type": "code",
   "execution_count": 12,
   "metadata": {},
   "outputs": [],
   "source": [
    "# import pandas as pd\n",
    "# learning = pd.DataFrame(algorithm.returns.mean(axis = 0),columns=['entry'])"
   ]
  },
  {
   "cell_type": "code",
   "execution_count": 13,
   "metadata": {},
   "outputs": [],
   "source": [
    "# learning.plot()"
   ]
  },
  {
   "cell_type": "code",
   "execution_count": 14,
   "metadata": {},
   "outputs": [],
   "source": [
    "# import numpy as np\n",
    "# import matplotlib.pyplot as plt"
   ]
  },
  {
   "cell_type": "code",
   "execution_count": 15,
   "metadata": {},
   "outputs": [],
   "source": [
    "# learning = learning.to_numpy()"
   ]
  },
  {
   "cell_type": "code",
   "execution_count": 16,
   "metadata": {},
   "outputs": [],
   "source": [
    "# learning_2 = [0]*len(learning)\n",
    "# for i in range(len(learning_2)):\n",
    "#     learning_2[i] = learning[i][0]"
   ]
  },
  {
   "cell_type": "code",
   "execution_count": 17,
   "metadata": {},
   "outputs": [],
   "source": [
    "# plt.plot(learning_2)\n",
    "# plt.show()"
   ]
  },
  {
   "cell_type": "code",
   "execution_count": 18,
   "metadata": {},
   "outputs": [],
   "source": [
    "# avg_learning = np.convolve(learning_2, np.ones(1000)/1000, mode = 'valid')"
   ]
  },
  {
   "cell_type": "code",
   "execution_count": 19,
   "metadata": {},
   "outputs": [],
   "source": [
    "# plt.plot(avg_learning)\n",
    "# plt.show()"
   ]
  }
 ],
 "metadata": {
  "kernelspec": {
   "display_name": "Python 3 (ipykernel)",
   "language": "python",
   "name": "python3"
  },
  "language_info": {
   "codemirror_mode": {
    "name": "ipython",
    "version": 3
   },
   "file_extension": ".py",
   "mimetype": "text/x-python",
   "name": "python",
   "nbconvert_exporter": "python",
   "pygments_lexer": "ipython3",
   "version": "3.9.13"
  }
 },
 "nbformat": 4,
 "nbformat_minor": 4
}
