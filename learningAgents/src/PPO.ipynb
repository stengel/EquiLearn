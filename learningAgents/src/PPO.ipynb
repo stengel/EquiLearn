{
 "cells": [
  {
   "cell_type": "code",
   "execution_count": 1,
   "metadata": {},
   "outputs": [],
   "source": [
    "from Environment import env, AdversaryModes\n",
    "import numpy as np\n",
    "import torch\n",
    "from stable_baselines3 import PPO\n",
    "from stable_baselines3.ppo.policies import MlpPolicy\n",
    "from stable_baselines3.common.env_util import make_vec_env\n",
    "from stable_baselines3.common.evaluation import evaluate_policy\n",
    "from stable_baselines3.common.vec_env import DummyVecEnv, SubprocVecEnv\n",
    "from stable_baselines3.common.callbacks import EvalCallback\n",
    "import matplotlib.pyplot as plt\n",
    "import gymnasium as gym\n",
    "import numpy as np"
   ]
  },
  {
   "cell_type": "code",
   "execution_count": 2,
   "metadata": {},
   "outputs": [],
   "source": [
    "adversary_probabilities = torch.zeros(len(AdversaryModes))\n",
    "adversary_probabilities[0]=1"
   ]
  },
  {
   "cell_type": "code",
   "execution_count": 3,
   "metadata": {},
   "outputs": [
    {
     "name": "stdout",
     "output_type": "stream",
     "text": [
      "Using cpu device\n",
      "---------------------------------\n",
      "| rollout/           |          |\n",
      "|    ep_len_mean     | 25       |\n",
      "|    ep_rew_mean     | 1.65e+05 |\n",
      "| time/              |          |\n",
      "|    fps             | 8035     |\n",
      "|    iterations      | 1        |\n",
      "|    time_elapsed    | 2        |\n",
      "|    total_timesteps | 16384    |\n",
      "---------------------------------\n"
     ]
    }
   ],
   "source": [
    "if __name__ == \"__main__\":\n",
    "\n",
    "    num_cpu = 8\n",
    "    vec_env = make_vec_env(env, n_envs=num_cpu, seed=0, vec_env_cls=SubprocVecEnv,\n",
    "                           env_kwargs=dict(total_demand = 400, tuple_costs = (57, 71), total_stages = 25, adversary_probabilities = adversary_probabilities))\n",
    "    model = PPO(\"MlpPolicy\", vec_env, verbose=1)\n",
    "\n",
    "    model.learn(total_timesteps=1_000_000)"
   ]
  },
  {
   "cell_type": "code",
   "execution_count": 4,
   "metadata": {},
   "outputs": [],
   "source": [
    "# number_of_rounds = 100"
   ]
  },
  {
   "cell_type": "code",
   "execution_count": 5,
   "metadata": {},
   "outputs": [],
   "source": [
    "# deterministic_payoffs = [0]*number_of_rounds\n",
    "# random_payoffs = [0]*number_of_rounds\n",
    "# standard_deviation = [0]*number_of_rounds\n",
    "# for round in range(number_of_rounds):\n",
    "#     model.learn(total_timesteps=20_000)\n",
    "#     deterministic_payoff, _ = evaluate_policy(model, vec_env, n_eval_episodes=10, warn=False, deterministic= True)\n",
    "#     random_reward, std_reward = evaluate_policy(model, vec_env, n_eval_episodes=100, warn=False, deterministic= False)\n",
    "#     deterministic_payoffs[round] = deterministic_payoff\n",
    "#     random_payoffs[round] = random_reward\n",
    "#     standard_deviation[round] = std_reward"
   ]
  },
  {
   "cell_type": "code",
   "execution_count": 6,
   "metadata": {},
   "outputs": [],
   "source": [
    "def run_episode(env):                \n",
    "        episode_memory = list()\n",
    "\n",
    "        state = env.reset()\n",
    "        done = [False]\n",
    "\n",
    "        while not done[0]:\n",
    "            action, _ = model.predict(state, deterministic=True)\n",
    "            previous_state = state\n",
    "            state, reward, done, _ = env.step(action)\n",
    "            episode_memory.append([previous_state[0], action[0], reward[0]])\n",
    "\n",
    "        states, actions, rewards = list(zip(*episode_memory))\n",
    "\n",
    "        return states, actions, rewards"
   ]
  },
  {
   "cell_type": "code",
   "execution_count": 7,
   "metadata": {},
   "outputs": [],
   "source": [
    "states, actions, rewards = run_episode(vec_env)"
   ]
  },
  {
   "cell_type": "code",
   "execution_count": 8,
   "metadata": {},
   "outputs": [
    {
     "data": {
      "text/plain": [
       "(array([  0, 200]),\n",
       " array([  1, 224]),\n",
       " array([  2, 229]),\n",
       " array([  3, 220]),\n",
       " array([  4, 226]),\n",
       " array([  5, 224]),\n",
       " array([  6, 224]),\n",
       " array([  7, 238]),\n",
       " array([  8, 239]),\n",
       " array([  9, 232]),\n",
       " array([ 10, 224]),\n",
       " array([ 11, 223]),\n",
       " array([ 12, 229]),\n",
       " array([ 13, 227]),\n",
       " array([ 14, 234]),\n",
       " array([ 15, 244]),\n",
       " array([ 16, 235]),\n",
       " array([ 17, 242]),\n",
       " array([ 18, 237]),\n",
       " array([ 19, 229]),\n",
       " array([ 20, 232]),\n",
       " array([ 21, 238]),\n",
       " array([ 22, 238]),\n",
       " array([ 23, 244]),\n",
       " array([ 24, 236]))"
      ]
     },
     "execution_count": 8,
     "metadata": {},
     "output_type": "execute_result"
    }
   ],
   "source": [
    "states"
   ]
  }
 ],
 "metadata": {
  "kernelspec": {
   "display_name": "Python 3 (ipykernel)",
   "language": "python",
   "name": "python3"
  },
  "language_info": {
   "codemirror_mode": {
    "name": "ipython",
    "version": 3
   },
   "file_extension": ".py",
   "mimetype": "text/x-python",
   "name": "python",
   "nbconvert_exporter": "python",
   "pygments_lexer": "ipython3",
   "version": "3.9.13"
  }
 },
 "nbformat": 4,
 "nbformat_minor": 4
}
