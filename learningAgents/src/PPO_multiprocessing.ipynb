{
 "cells": [
  {
   "cell_type": "code",
   "execution_count": 1,
   "metadata": {},
   "outputs": [],
   "source": [
    "from Environment import env, AdversaryModes\n",
    "import numpy as np\n",
    "import torch\n",
    "from stable_baselines3 import PPO\n",
    "from stable_baselines3.ppo.policies import MlpPolicy\n",
    "from stable_baselines3.common.env_util import make_vec_env\n",
    "from stable_baselines3.common.evaluation import evaluate_policy\n",
    "from stable_baselines3.common.vec_env import DummyVecEnv, SubprocVecEnv\n",
    "from stable_baselines3.common.callbacks import EvalCallback\n",
    "import matplotlib.pyplot as plt\n",
    "import gymnasium as gym\n",
    "import numpy as np"
   ]
  },
  {
   "cell_type": "code",
   "execution_count": 2,
   "metadata": {},
   "outputs": [],
   "source": [
    "adversary_probabilities = torch.zeros(len(AdversaryModes))\n",
    "adversary_probabilities[0]=1"
   ]
  },
  {
   "cell_type": "code",
   "execution_count": 3,
   "metadata": {},
   "outputs": [],
   "source": [
    "if __name__ == \"__main__\":\n",
    "\n",
    "    num_cpu = 1  \n",
    "    vec_env = make_vec_env(env, n_envs=num_cpu, seed=0, vec_env_cls=SubprocVecEnv,\n",
    "                           env_kwargs=dict(total_demand = 400, tuple_costs = (57, 71), total_stages = 25, adversary_probabilities = adversary_probabilities))\n",
    "    model = PPO(\"MlpPolicy\", vec_env, verbose=0)\n",
    "\n",
    "    model.learn(total_timesteps=2)"
   ]
  },
  {
   "cell_type": "code",
   "execution_count": 4,
   "metadata": {},
   "outputs": [],
   "source": [
    "if __name__ == \"__main__\":\n",
    "\n",
    "    num_cpu = 2 \n",
    "    vec_env = make_vec_env(env, n_envs=num_cpu, seed=0, vec_env_cls=SubprocVecEnv,\n",
    "                           env_kwargs=dict(total_demand = 400, tuple_costs = (57, 71), total_stages = 25, adversary_probabilities = adversary_probabilities))\n",
    "    model = PPO(\"MlpPolicy\", vec_env, verbose=0)\n",
    "\n",
    "    model.learn(total_timesteps=200_000)"
   ]
  },
  {
   "cell_type": "code",
   "execution_count": 5,
   "metadata": {},
   "outputs": [],
   "source": [
    "if __name__ == \"__main__\":\n",
    "\n",
    "    num_cpu = 3\n",
    "    vec_env = make_vec_env(env, n_envs=num_cpu, seed=0, vec_env_cls=SubprocVecEnv,\n",
    "                           env_kwargs=dict(total_demand = 400, tuple_costs = (57, 71), total_stages = 25, adversary_probabilities = adversary_probabilities))\n",
    "    model = PPO(\"MlpPolicy\", vec_env, verbose=0)\n",
    "\n",
    "    model.learn(total_timesteps=200_000)"
   ]
  },
  {
   "cell_type": "code",
   "execution_count": 6,
   "metadata": {},
   "outputs": [],
   "source": [
    "if __name__ == \"__main__\":\n",
    "\n",
    "    num_cpu = 4 \n",
    "    vec_env = make_vec_env(env, n_envs=num_cpu, seed=0, vec_env_cls=SubprocVecEnv,\n",
    "                           env_kwargs=dict(total_demand = 400, tuple_costs = (57, 71), total_stages = 25, adversary_probabilities = adversary_probabilities))\n",
    "    model = PPO(\"MlpPolicy\", vec_env, verbose=0)\n",
    "\n",
    "    model.learn(total_timesteps=200_000)"
   ]
  },
  {
   "cell_type": "code",
   "execution_count": 7,
   "metadata": {},
   "outputs": [],
   "source": [
    "if __name__ == \"__main__\":\n",
    "\n",
    "    num_cpu = 5\n",
    "    vec_env = make_vec_env(env, n_envs=num_cpu, seed=0, vec_env_cls=SubprocVecEnv,\n",
    "                           env_kwargs=dict(total_demand = 400, tuple_costs = (57, 71), total_stages = 25, adversary_probabilities = adversary_probabilities))\n",
    "    model = PPO(\"MlpPolicy\", vec_env, verbose=0)\n",
    "\n",
    "    model.learn(total_timesteps=200_000)"
   ]
  },
  {
   "cell_type": "code",
   "execution_count": 8,
   "metadata": {},
   "outputs": [],
   "source": [
    "if __name__ == \"__main__\":\n",
    "\n",
    "    num_cpu = 6 \n",
    "    vec_env = make_vec_env(env, n_envs=num_cpu, seed=0, vec_env_cls=SubprocVecEnv,\n",
    "                           env_kwargs=dict(total_demand = 400, tuple_costs = (57, 71), total_stages = 25, adversary_probabilities = adversary_probabilities))\n",
    "    model = PPO(\"MlpPolicy\", vec_env, verbose=0)\n",
    "\n",
    "    model.learn(total_timesteps=200_000)"
   ]
  },
  {
   "cell_type": "code",
   "execution_count": 9,
   "metadata": {},
   "outputs": [],
   "source": [
    "if __name__ == \"__main__\":\n",
    "\n",
    "    num_cpu = 7\n",
    "    vec_env = make_vec_env(env, n_envs=num_cpu, seed=0, vec_env_cls=SubprocVecEnv,\n",
    "                           env_kwargs=dict(total_demand = 400, tuple_costs = (57, 71), total_stages = 25, adversary_probabilities = adversary_probabilities))\n",
    "    model = PPO(\"MlpPolicy\", vec_env, verbose=0)\n",
    "\n",
    "    model.learn(total_timesteps=200_000)"
   ]
  },
  {
   "cell_type": "code",
   "execution_count": 10,
   "metadata": {},
   "outputs": [],
   "source": [
    "if __name__ == \"__main__\":\n",
    "\n",
    "    num_cpu = 8\n",
    "    vec_env = make_vec_env(env, n_envs=num_cpu, seed=0, vec_env_cls=SubprocVecEnv,\n",
    "                           env_kwargs=dict(total_demand = 400, tuple_costs = (57, 71), total_stages = 25, adversary_probabilities = adversary_probabilities))\n",
    "    model = PPO(\"MlpPolicy\", vec_env, verbose=0)\n",
    "\n",
    "    model.learn(total_timesteps=200_000)"
   ]
  },
  {
   "cell_type": "code",
   "execution_count": 13,
   "metadata": {},
   "outputs": [],
   "source": [
    "def run_episode(env):                \n",
    "        episode_memory = list()\n",
    "\n",
    "        state = env.reset()\n",
    "        done = False\n",
    "\n",
    "        while not done:\n",
    "            action, _ = model.predict(state, deterministic=True)\n",
    "            previous_state = state\n",
    "            state, reward, done, _ = env.step(action)\n",
    "            episode_memory.append([previous_state, action, reward])\n",
    "\n",
    "        states, actions, rewards = list(zip(*episode_memory))\n",
    "\n",
    "        return states, actions, rewards"
   ]
  },
  {
   "cell_type": "code",
   "execution_count": 14,
   "metadata": {},
   "outputs": [],
   "source": [
    "states, actions, rewards = run_episode(vec_env)"
   ]
  },
  {
   "cell_type": "code",
   "execution_count": 17,
   "metadata": {},
   "outputs": [
    {
     "data": {
      "text/plain": [
       "(array([4788.25]),\n",
       " array([3836.0625]),\n",
       " array([7405.015625]),\n",
       " array([5048.84765625]),\n",
       " array([8615.57128906]),\n",
       " array([7136.03344727]),\n",
       " array([5080.20758057]),\n",
       " array([6600.68275452]),\n",
       " array([7307.56326675]),\n",
       " array([6785.36005497]),\n",
       " array([8520.98356843]),\n",
       " array([6804.24845558]),\n",
       " array([6923.07822718]),\n",
       " array([5776.32201651]),\n",
       " array([7564.11167783]),\n",
       " array([6420.99407546]),\n",
       " array([6396.54418079]),\n",
       " array([7214.46469472]),\n",
       " array([5812.23360246]),\n",
       " array([7422.99101542]),\n",
       " array([5483.50785994]),\n",
       " array([7671.91257554]),\n",
       " array([6806.35615934]),\n",
       " array([7060.95246902]),\n",
       " array([7595.0091001]))"
      ]
     },
     "execution_count": 17,
     "metadata": {},
     "output_type": "execute_result"
    }
   ],
   "source": [
    "rewards"
   ]
  }
 ],
 "metadata": {
  "kernelspec": {
   "display_name": "Python 3 (ipykernel)",
   "language": "python",
   "name": "python3"
  },
  "language_info": {
   "codemirror_mode": {
    "name": "ipython",
    "version": 3
   },
   "file_extension": ".py",
   "mimetype": "text/x-python",
   "name": "python",
   "nbconvert_exporter": "python",
   "pygments_lexer": "ipython3",
   "version": "3.9.13"
  }
 },
 "nbformat": 4,
 "nbformat_minor": 4
}
