{
 "cells": [
  {
   "cell_type": "code",
   "execution_count": 1,
   "metadata": {},
   "outputs": [],
   "source": [
    "from learningAgent import ReinforceAlgorithm\n",
    "from environment import Model, AdversaryModes\n",
    "import numpy as np"
   ]
  },
  {
   "cell_type": "code",
   "execution_count": 2,
   "metadata": {},
   "outputs": [],
   "source": [
    "game = Model(totalDemand = 400, \n",
    "               tupleCosts = (57, 71),\n",
    "               totalStages = 25,\n",
    "               initState = [400/2,0], adversaryMode=AdversaryModes.myopic)"
   ]
  },
  {
   "cell_type": "code",
   "execution_count": 3,
   "metadata": {},
   "outputs": [],
   "source": [
    "Qtable = np.zeros((20,4))\n"
   ]
  },
  {
   "cell_type": "code",
   "execution_count": 4,
   "metadata": {},
   "outputs": [],
   "source": [
    "algorithm = ReinforceAlgorithm(game, Qtable, numberEpisodes=10000, discountFactor =0.9)"
   ]
  },
  {
   "cell_type": "code",
   "execution_count": 5,
   "metadata": {
    "scrolled": true
   },
   "outputs": [],
   "source": [
    "algorithm.solver()"
   ]
  },
  {
   "cell_type": "code",
   "execution_count": 6,
   "metadata": {},
   "outputs": [
    {
     "name": "stdout",
     "output_type": "stream",
     "text": [
      "[[ 725.21  436.81  424.6     0.  ]\n",
      " [ 408.61  560.26  340.3   323.39]\n",
      " [1295.23  485.24  450.7     0.  ]\n",
      " [ 377.53  539.95  231.91  352.36]\n",
      " [ 799.4   356.25  890.06    0.  ]\n",
      " [ 356.84  458.72  589.29  470.86]\n",
      " [1319.92  636.47  404.86    0.  ]\n",
      " [ 321.   1479.85 1045.11  402.96]\n",
      " [3518.3   466.89  305.57    0.  ]\n",
      " [ 430.17  279.07  477.45  586.05]\n",
      " [ 927.24  455.24  409.29    0.  ]\n",
      " [ 570.79 2188.28  322.77  444.04]\n",
      " [1268.24  375.19  428.19    0.  ]\n",
      " [ 246.98  461.79  274.08  255.2 ]\n",
      " [1657.57  313.    278.23    0.  ]\n",
      " [ 785.09  580.14  542.23  267.24]\n",
      " [1001.59  572.73  373.02    0.  ]\n",
      " [3736.54  917.09  682.92  930.21]\n",
      " [2689.15 6064.97  497.11    0.  ]\n",
      " [ 422.27  958.8   902.96  721.55]]\n"
     ]
    }
   ],
   "source": [
    "print(Qtable)"
   ]
  }
 ],
 "metadata": {
  "kernelspec": {
   "display_name": "Python 3 (ipykernel)",
   "language": "python",
   "name": "python3"
  },
  "language_info": {
   "codemirror_mode": {
    "name": "ipython",
    "version": 3
   },
   "file_extension": ".py",
   "mimetype": "text/x-python",
   "name": "python",
   "nbconvert_exporter": "python",
   "pygments_lexer": "ipython3",
   "version": "3.9.13"
  }
 },
 "nbformat": 4,
 "nbformat_minor": 4
}
